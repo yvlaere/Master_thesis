{
 "cells": [
  {
   "cell_type": "code",
   "execution_count": 63,
   "id": "2e6706d5-0103-44f3-aff2-d72455512361",
   "metadata": {},
   "outputs": [],
   "source": [
    "import numpy as np\n",
    "import pandas as pd\n",
    "import torch\n",
    "from torch.utils.data import Subset\n",
    "from time import time"
   ]
  },
  {
   "cell_type": "markdown",
   "id": "74eb1faf-d542-4cf7-99ee-b506fcd2cda9",
   "metadata": {},
   "source": [
    "# Annotation analyses"
   ]
  },
  {
   "cell_type": "markdown",
   "id": "01431607-8855-4f1e-9f00-7a19b0d59ec6",
   "metadata": {},
   "source": [
    "## Load datasets"
   ]
  },
  {
   "cell_type": "code",
   "execution_count": null,
   "id": "02af74e6-1ddf-421c-9dc2-4178392f6710",
   "metadata": {},
   "outputs": [],
   "source": [
    "dataset = torch.load('HX1_train_val_test_split/dataset.pt')"
   ]
  },
  {
   "cell_type": "code",
   "execution_count": null,
   "id": "2697fbab-95e5-41f6-a1fc-f20c2499fcf2",
   "metadata": {},
   "outputs": [],
   "source": [
    "train_inds = np.load('HX1_train_val_test_split/train_inds.npy')\n",
    "val_inds = np.load('HX1_train_val_test_split/val_inds.npy')\n",
    "test_inds = np.load('HX1_train_val_test_split/test_inds.npy')"
   ]
  },
  {
   "cell_type": "code",
   "execution_count": null,
   "id": "38e5d1f2-8e98-417b-8aea-5cb767372270",
   "metadata": {},
   "outputs": [],
   "source": [
    "len(test_inds) + len(val_inds) + len(train_inds)"
   ]
  },
  {
   "cell_type": "code",
   "execution_count": null,
   "id": "7a00a183-7ace-412c-b9b7-7ed0a522d936",
   "metadata": {},
   "outputs": [],
   "source": [
    "train = Subset(dataset, train_inds)\n",
    "val = Subset(dataset, val_inds)\n",
    "test = Subset(dataset, test_inds)"
   ]
  },
  {
   "cell_type": "markdown",
   "id": "7085bd14-b0c2-42be-99e1-2c682e0bb99b",
   "metadata": {},
   "source": [
    "## Load y_hat and y_true data"
   ]
  },
  {
   "cell_type": "code",
   "execution_count": null,
   "id": "f696c1f6-c797-49b9-9819-cd37a718b81f",
   "metadata": {},
   "outputs": [],
   "source": [
    "#np.save('/home/yarivl/thesis/results/ConvNeXt/HX1/y_hat_test.npy', y_hat_test)\n",
    "#np.save('/home/yarivl/thesis/results/ConvNeXt/HX1/y_true_test.npy', y_true_test)\n",
    "\n",
    "y_hat_C = np.load('/home/yarivl/thesis/results/ConvNeXt/HX1/y_hat_test.npy')\n",
    "#y_hat_T = \n",
    "y_true = np.load('/home/yarivl/thesis/results/ConvNeXt/HX1/y_true_test.npy')"
   ]
  },
  {
   "cell_type": "markdown",
   "id": "7d2319ea-8ead-472c-b95e-b92d98c0043b",
   "metadata": {},
   "source": [
    "## Necessary functions"
   ]
  },
  {
   "cell_type": "code",
   "execution_count": null,
   "id": "637be2d2-f9f0-43db-8c83-6f1cc1a70944",
   "metadata": {},
   "outputs": [],
   "source": [
    "def determine_states(y_hat, y_lab):\n",
    "    #0 = NVT, 1 = TP, 2 = FP, 3 = TN, 4 = FN\n",
    "    #y_pred = np.round(y_pred)\n",
    "    #y_hat = np.round(y_hat)\n",
    "    all_states = []\n",
    "    all_preds = []\n",
    "    counter = 0\n",
    "    for i in range(len(y_lab)):\n",
    "        states = np.zeros(len(y_lab[i]))\n",
    "        y_hat_segment = np.zeros(len(y_lab[i]))\n",
    "        \n",
    "        mask = y_lab[i] != 2\n",
    "        y_hat_segment[mask] = y_hat[counter:counter + sum(mask)]\n",
    "        all_preds.append(y_hat_segment)\n",
    "        y_hat_pred = np.round(y_hat_segment)\n",
    "        counter += sum(mask)\n",
    "                                 \n",
    "        true = y_lab[i] == y_hat_pred\n",
    "        false = y_lab[i] != y_hat_pred\n",
    "        \n",
    "        positive = y_hat_pred == 1\n",
    "        negative = y_hat_pred == 0\n",
    "        nvt = y_lab[i] == 2\n",
    "    \n",
    "        states[np.logical_and(true, positive)] = 1\n",
    "        states[np.logical_and(false, positive)] = 2\n",
    "        states[np.logical_and(true, negative)] = 3\n",
    "        states[np.logical_and(false, negative)] = 4\n",
    "        states[nvt] = 0\n",
    "        \n",
    "        all_states.append(states)\n",
    "    \n",
    "    return all_states, all_preds\n",
    "    \n",
    "def expand_states(y_states):\n",
    "    TP = y_states == 1\n",
    "    FP = y_states == 2\n",
    "    TN = y_states == 3\n",
    "    FN = y_states == 4\n",
    "    \n",
    "    return TP, FP, TN, FN"
   ]
  },
  {
   "cell_type": "markdown",
   "id": "9f781626-2ad4-4c62-b53f-789ad5572519",
   "metadata": {},
   "source": [
    "## Get sequences and labels"
   ]
  },
  {
   "cell_type": "code",
   "execution_count": null,
   "id": "3f87309f-3edf-4f6b-8b8c-31948cb65b75",
   "metadata": {},
   "outputs": [],
   "source": [
    "y_lab = []\n",
    "seqs = []\n",
    "\n",
    "for i in range(len(test)):\n",
    "    #get labels\n",
    "    y_labels = np.array(test[i][1])\n",
    "    \n",
    "    y_lab.append(y_labels)\n",
    "    \n",
    "    #get sequence\n",
    "    seq = np.transpose(test[i][0])[3:8, :].detach().numpy()\n",
    "    seqs.append(seq)"
   ]
  },
  {
   "cell_type": "markdown",
   "id": "9442f19f-68dd-4e68-bece-9f6577ebecf5",
   "metadata": {},
   "source": [
    "## Determine states for both models"
   ]
  },
  {
   "cell_type": "code",
   "execution_count": null,
   "id": "e1db1194-b2cc-4507-a74b-25fa5cbb0562",
   "metadata": {},
   "outputs": [],
   "source": [
    "y_stat_C, y_pred_C = determine_states(y_hat_C, y_lab)\n",
    "#y_stat_T = determine_states(y_hat_T, y_lab)"
   ]
  },
  {
   "cell_type": "markdown",
   "id": "1619c7b4-8704-4f72-a3cf-584ad496f3ec",
   "metadata": {},
   "source": [
    "## Compare states for both models"
   ]
  },
  {
   "cell_type": "code",
   "execution_count": null,
   "id": "44d7bd9d-99ab-4645-bf7d-d7874036ca4b",
   "metadata": {},
   "outputs": [],
   "source": [
    "#combine all of them in one object ('TP' instead of boolean)\n",
    "\n",
    "TP = []\n",
    "FP = []\n",
    "TN = []\n",
    "FN = []\n",
    "\n",
    "for i in range(len(y_stat_C)):\n",
    "    [t_TP, t_FP, t_TN, t_FN] = expand_states(y_stat_C[i])\n",
    "    TP.append(t_TP)\n",
    "    FP.append(t_FP)\n",
    "    TN.append(t_TN)\n",
    "    FN.append(t_FN)"
   ]
  },
  {
   "cell_type": "code",
   "execution_count": 101,
   "id": "7e1447ca-9975-4d55-8c01-f182fb3a7da2",
   "metadata": {},
   "outputs": [],
   "source": [
    "mask = []\n",
    "for i in range(len(TP)):\n",
    "    temp = np.logical_or(TP[i], FP[i])\n",
    "    temp = np.logical_or(temp, TN[i])\n",
    "    mask.append(np.logical_or(temp, FN[i]))"
   ]
  },
  {
   "cell_type": "markdown",
   "id": "0128d194-80a5-421a-bede-8c8bc9625930",
   "metadata": {
    "tags": []
   },
   "source": [
    "## Get and clean annotation data"
   ]
  },
  {
   "cell_type": "code",
   "execution_count": 35,
   "id": "ee8c06b0-433b-4532-a69d-39c69cfdee9f",
   "metadata": {},
   "outputs": [],
   "source": [
    "#!genome-build GRCh38.p13\n",
    "#!genome-version GRCh38\n",
    "#!genome-date 2013-12\n",
    "#!genome-build-accession GCA_000001405.28\n",
    "#!genebuild-last-updated 2021-11"
   ]
  },
  {
   "cell_type": "code",
   "execution_count": 102,
   "id": "54198ee4-4c0b-4292-b241-0f64f6b8cda6",
   "metadata": {},
   "outputs": [
    {
     "name": "stderr",
     "output_type": "stream",
     "text": [
      "/home/yarivl/anaconda3/envs/thesis/lib/python3.9/site-packages/IPython/core/interactiveshell.py:3441: DtypeWarning: Columns (0) have mixed types.Specify dtype option on import or set low_memory=False.\n",
      "  exec(code_obj, self.user_global_ns, self.user_ns)\n"
     ]
    }
   ],
   "source": [
    "import pandas as pd\n",
    "\n",
    "features_df = pd.read_csv('/home/yarivl/annotated_HX1/Homo_sapiens.GRCh38.106.gtf', sep = '\\t', header = None)\n",
    "regulatory_features_df = pd.read_csv('/home/yarivl/annotated_HX1/homo_sapiens.GRCh38.Regulatory_Build.regulatory_features.20210107.gff', sep = '\\t', header = None)"
   ]
  },
  {
   "cell_type": "code",
   "execution_count": 103,
   "id": "5aff5042-d1da-475c-a209-af2acb49d056",
   "metadata": {},
   "outputs": [
    {
     "name": "stdout",
     "output_type": "stream",
     "text": [
      "1 :  302348\n",
      "2 :  250535\n",
      "3 :  214015\n",
      "4 :  135118\n",
      "5 :  145697\n",
      "6 :  154344\n",
      "7 :  154394\n",
      "23 :  111358\n",
      "8 :  120712\n",
      "9 :  123725\n",
      "11 :  196376\n",
      "10 :  128282\n",
      "12 :  183554\n",
      "13 :  54573\n",
      "14 :  117024\n",
      "15 :  117814\n",
      "16 :  147198\n",
      "17 :  190787\n",
      "18 :  57446\n",
      "20 :  77812\n",
      "19 :  180839\n",
      "24 :  7944\n",
      "22 :  69708\n",
      "21 :  37082\n",
      "gene :  61461\n",
      "transcript :  246415\n",
      "exon :  1572300\n",
      "CDS :  851019\n",
      "start_codon :  95242\n",
      "stop_codon :  88846\n",
      "five_prime_utr :  168139\n",
      "three_prime_utr :  195144\n",
      "Selenocysteine :  119\n"
     ]
    }
   ],
   "source": [
    "#features_df\n",
    "for i in range(25):\n",
    "    features_df.loc[features_df[0] == str(i), 0] = i\n",
    "    \n",
    "features_df.loc[features_df[0] == 'X', 0] = 23\n",
    "features_df.loc[features_df[0] == 'Y', 0] = 24\n",
    "\n",
    "\n",
    "features_df = features_df[[type(i) == int for i in list(features_df[0])]]\n",
    "\n",
    "\n",
    "locations = features_df[0].unique()\n",
    "features = features_df[2].unique()\n",
    "for loc in locations:\n",
    "    features_df[0].value_counts()[loc]\n",
    "    print(loc, ': ', features_df[0].value_counts()[loc])\n",
    "for fea in features:\n",
    "    features_df[2].value_counts()[fea]\n",
    "    print(fea, ': ', features_df[2].value_counts()[fea])"
   ]
  },
  {
   "cell_type": "code",
   "execution_count": 104,
   "id": "e020072f-5f04-44c7-85a2-36704ad6840b",
   "metadata": {},
   "outputs": [
    {
     "name": "stdout",
     "output_type": "stream",
     "text": [
      "23 :  19474\n",
      "24 :  987\n",
      "1 :  54608\n",
      "2 :  52244\n",
      "3 :  42511\n",
      "4 :  33724\n",
      "5 :  36503\n",
      "6 :  36057\n",
      "7 :  34208\n",
      "8 :  30084\n",
      "9 :  27414\n",
      "10 :  29648\n",
      "11 :  29535\n",
      "12 :  29428\n",
      "13 :  17844\n",
      "14 :  18973\n",
      "15 :  19893\n",
      "16 :  19620\n",
      "17 :  22754\n",
      "18 :  15143\n",
      "19 :  15303\n",
      "20 :  16783\n",
      "21 :  7877\n",
      "22 :  10754\n",
      "CTCF_binding_site :  175885\n",
      "enhancer :  127935\n",
      "open_chromatin_region :  110101\n",
      "promoter :  36597\n",
      "promoter_flanking_region :  140548\n",
      "TF_binding_site :  30303\n"
     ]
    }
   ],
   "source": [
    "#regulatory_features_df\n",
    "for i in range(25):\n",
    "    regulatory_features_df.loc[regulatory_features_df[0] == str(i), 0] = i\n",
    "    \n",
    "regulatory_features_df.loc[regulatory_features_df[0] == 'X', 0] = 23\n",
    "regulatory_features_df.loc[regulatory_features_df[0] == 'Y', 0] = 24\n",
    "\n",
    "\n",
    "regulatory_features_df = regulatory_features_df[[type(i) == int for i in list(regulatory_features_df[0])]]\n",
    "\n",
    "\n",
    "locations = regulatory_features_df[0].unique()\n",
    "features = regulatory_features_df[2].unique()\n",
    "for loc in locations:\n",
    "    regulatory_features_df[0].value_counts()[loc]\n",
    "    print(loc, ': ', regulatory_features_df[0].value_counts()[loc])\n",
    "for fea in features:\n",
    "    regulatory_features_df[2].value_counts()[fea]\n",
    "    print(fea, ': ', regulatory_features_df[2].value_counts()[fea])"
   ]
  },
  {
   "cell_type": "code",
   "execution_count": 105,
   "id": "ae2962f2-ca9e-4ff0-a89f-cc22a56a1fd7",
   "metadata": {},
   "outputs": [],
   "source": [
    "#turn dataframes into np arrays\n",
    "\n",
    "features_dict = {}\n",
    "regulatory_features_dict = {}\n",
    "\n",
    "for i in range(24):\n",
    "    features_dict[i + 1] = np.transpose(np.array(features_df[features_df[0] == i + 1]))\n",
    "\n",
    "regulatory_features_dict = {}\n",
    "\n",
    "for i in range(24):\n",
    "    regulatory_features_dict[i + 1] = np.transpose(np.array(regulatory_features_df[regulatory_features_df[0] == i + 1]))\n",
    "\n",
    "#np.savez_compressed(pi_dir, **features_dict)\n",
    "#np.savez_compressed(pi_dir, **regulatory_features_dict)"
   ]
  },
  {
   "cell_type": "raw",
   "id": "ee623f1a-2591-4a3f-beb2-b27792948258",
   "metadata": {},
   "source": [
    "chrom/scaffold data_source feature start end score strand frame attr\n",
    "https://www.ensembl.org/info/website/upload/gff.html"
   ]
  },
  {
   "cell_type": "markdown",
   "id": "4cb8ebc7-5c92-42d5-b67f-aff6d8d1cb8a",
   "metadata": {},
   "source": [
    "## Get annotation data"
   ]
  },
  {
   "cell_type": "code",
   "execution_count": 170,
   "id": "2a5d2c72-2120-46e3-9f56-1b070c0412d9",
   "metadata": {},
   "outputs": [],
   "source": [
    "def annotation(mask, features_dict, inds, preds, labs):\n",
    "    features = []\n",
    "    counts = [[], [[]], [[]]]\n",
    "\n",
    "    #for i in range(len(mask)):\n",
    "    tresh = 0\n",
    "    for i in inds:\n",
    "        #get read location\n",
    "        chrom = dataset.get_tensors_WGBS_extra(test.indices[i])[2]\n",
    "        read_start = dataset.get_tensors_WGBS_extra(test.indices[i])[3]\n",
    "        read_end = dataset.get_tensors_WGBS_extra(test.indices[i])[4]\n",
    "        orientation = dataset.get_tensors_WGBS_extra(test.indices[i])[5]\n",
    "        read = mask[i]\n",
    "        read_preds = preds[i]\n",
    "        read_labs = labs[i]\n",
    "        read_index = np.where(read == True)[0]\n",
    "        read_preds = read_preds[read_index]\n",
    "        read_labs = read_labs[read_index]\n",
    "\n",
    "        #indices to genomic coords\n",
    "        if orientation == '+':\n",
    "            gen_coords = read_start + read_index + 1\n",
    "        elif orientation == '-':\n",
    "            gen_coords = read_end - read_index\n",
    "\n",
    "        f_dict = features_dict[int(chrom[7:9])]\n",
    "        \n",
    "        counter = 0\n",
    "\n",
    "        #get annotation\n",
    "        for coor in gen_coords:\n",
    "            features = np.unique(f_dict[2][(f_dict[3] < coor) & (f_dict[4] > coor)])\n",
    "            for feature in features:\n",
    "                if feature in counts[0]:\n",
    "                    ind = [i for i, val in enumerate(np.array(counts[0]) == feature) if val][0]\n",
    "                    counts[1][ind].append(read_labs[counter])\n",
    "                    counts[2][ind].append(read_preds[counter]) # = #counts[2][ind] + read_preds[counter]\n",
    "                else:\n",
    "                    counts[0].append(feature)\n",
    "                    counts[1].append([read_labs[counter]])\n",
    "                    counts[2].append([read_preds[counter]])\n",
    "            tresh += 1\n",
    "            counter += 1\n",
    "\n",
    "    return counts\n",
    "  "
   ]
  },
  {
   "cell_type": "code",
   "execution_count": 108,
   "id": "1a880f51-43bf-4eac-9580-b55007d5a989",
   "metadata": {},
   "outputs": [
    {
     "data": {
      "text/plain": [
       "12711"
      ]
     },
     "execution_count": 108,
     "metadata": {},
     "output_type": "execute_result"
    }
   ],
   "source": [
    "len(test)"
   ]
  },
  {
   "cell_type": "code",
   "execution_count": 143,
   "id": "97ed41a3-02f6-4b24-b3e8-cd3e3fb2d02c",
   "metadata": {},
   "outputs": [],
   "source": [
    "#sample reads and get indexes\n",
    "inds = list(np.arange(0, 12711))\n",
    "inds = random.sample(inds, 12711)"
   ]
  },
  {
   "cell_type": "code",
   "execution_count": null,
   "id": "f3312181-2a6d-46c7-bce0-3f27c2233c63",
   "metadata": {},
   "outputs": [],
   "source": [
    "#get annotations for all sampled reads\n",
    "t = time()\n",
    "annotated_all = annotation(mask, features_dict, inds, y_pred_C, y_lab)\n",
    "print(time() - t)"
   ]
  },
  {
   "cell_type": "code",
   "execution_count": null,
   "id": "ae6399a1-ce9d-48fd-a892-5898ea3b2a3a",
   "metadata": {},
   "outputs": [],
   "source": [
    "#save annotated reads\n",
    "np.save('/home/yarivl/thesis/results/anno/annotated_all.npy', annotated_all)"
   ]
  },
  {
   "cell_type": "code",
   "execution_count": 185,
   "id": "a85f2349-4bf3-478f-aa5d-5d4195fb9f14",
   "metadata": {},
   "outputs": [],
   "source": [
    "from sklearn.metrics import accuracy_score\n",
    "from sklearn.metrics import precision_score\n",
    "from sklearn.metrics import recall_score\n",
    "from sklearn.metrics import precision_recall_curve\n",
    "from sklearn.metrics import roc_curve\n",
    "from sklearn.metrics import auc\n",
    "from sklearn.metrics import average_precision_score\n",
    "\n",
    "def eval_anno(y_true, y_hat):\n",
    "    acc = accuracy_score(y_true, np.round(y_hat))\n",
    "    prec = precision_score(y_true, np.round(y_hat))\n",
    "    rec = recall_score(y_true, np.round(y_hat))\n",
    "    fpr, tpr, thresholds_ROC = roc_curve(y_true, y_hat)\n",
    "    precision, recall, thresholds_PR = precision_recall_curve(y_true, y_hat)\n",
    "\n",
    "    #calculate area under the curve\n",
    "    AUC_ROC = auc(fpr, tpr)\n",
    "    AUC_PR = average_precision_score(y_true, y_hat)\n",
    "    \n",
    "    return AUC_ROC, AUC_PR, acc, prec, rec"
   ]
  },
  {
   "cell_type": "code",
   "execution_count": 213,
   "id": "621a84e4-945e-49ef-bd44-41625b8da4cc",
   "metadata": {},
   "outputs": [
    {
     "data": {
      "text/plain": [
       "(0.955663558989768,\n",
       " 0.9909373597649985,\n",
       " 0.9215994962216625,\n",
       " 0.9321391663796073,\n",
       " 0.981145757795504)"
      ]
     },
     "execution_count": 213,
     "metadata": {},
     "output_type": "execute_result"
    }
   ],
   "source": [
    "eval_anno(annotated_all[1][5], annotated_all[2][5])"
   ]
  },
  {
   "cell_type": "code",
   "execution_count": 239,
   "id": "adf2c46e-aa6c-4b9e-8cc5-b46b70f26258",
   "metadata": {},
   "outputs": [
    {
     "data": {
      "text/plain": [
       "0.9097500396836513"
      ]
     },
     "execution_count": 239,
     "metadata": {},
     "output_type": "execute_result"
    }
   ],
   "source": [
    "sum(np.round(annotated_all[1][0]))/len(annotated_all[1][0])"
   ]
  },
  {
   "cell_type": "code",
   "execution_count": 240,
   "id": "b39e47e9-e720-48e0-83c6-a1fc44ba4a6a",
   "metadata": {},
   "outputs": [
    {
     "data": {
      "text/plain": [
       "0.9211579222573928"
      ]
     },
     "execution_count": 240,
     "metadata": {},
     "output_type": "execute_result"
    }
   ],
   "source": [
    "sum(np.round(annotated_all[2][0]))/len(annotated_all[2][0])"
   ]
  },
  {
   "cell_type": "code",
   "execution_count": 189,
   "id": "30ec69b6-af05-449c-97d4-d5e653a33041",
   "metadata": {},
   "outputs": [
    {
     "data": {
      "text/plain": [
       "428389"
      ]
     },
     "execution_count": 189,
     "metadata": {},
     "output_type": "execute_result"
    }
   ],
   "source": [
    "len(annotated_all[1][1])"
   ]
  },
  {
   "cell_type": "code",
   "execution_count": 249,
   "id": "dc951b25-51df-4e39-a415-f3dd8e7a1da2",
   "metadata": {},
   "outputs": [
    {
     "data": {
      "text/plain": [
       "['enhancer',\n",
       " 'open_chromatin_region',\n",
       " 'promoter',\n",
       " 'promoter_flanking_region',\n",
       " 'CTCF_binding_site',\n",
       " 'TF_binding_site']"
      ]
     },
     "execution_count": 249,
     "metadata": {},
     "output_type": "execute_result"
    }
   ],
   "source": [
    "annotated_all_regulatory[0]"
   ]
  },
  {
   "cell_type": "code",
   "execution_count": 256,
   "id": "8b63741e-d050-45a1-91e3-916d47dcc55d",
   "metadata": {},
   "outputs": [
    {
     "data": {
      "text/plain": [
       "array([[ 221,  197],\n",
       "       [  52, 2706]])"
      ]
     },
     "execution_count": 256,
     "metadata": {},
     "output_type": "execute_result"
    }
   ],
   "source": [
    "from sklearn import metrics\n",
    "metrics.confusion_matrix(annotated_all_regulatory[1][5], np.round(annotated_all_regulatory[2][5]))"
   ]
  },
  {
   "cell_type": "code",
   "execution_count": 280,
   "id": "b622ec83-9cb7-4c89-8ddd-777ba1222510",
   "metadata": {},
   "outputs": [
    {
     "data": {
      "text/plain": [
       "0.8683879093198993"
      ]
     },
     "execution_count": 280,
     "metadata": {},
     "output_type": "execute_result"
    }
   ],
   "source": [
    "sum(annotated_all_regulatory[1][5])/len(annotated_all_regulatory[1][5])"
   ]
  },
  {
   "cell_type": "code",
   "execution_count": 285,
   "id": "37100c6b-87b3-469e-997a-a07affd70a0e",
   "metadata": {},
   "outputs": [
    {
     "data": {
      "text/plain": [
       "array([0.6074896 , 0.60285714, 0.98980601, 0.75621163, 0.90838959,\n",
       "       0.80952381])"
      ]
     },
     "execution_count": 285,
     "metadata": {},
     "output_type": "execute_result"
    }
   ],
   "source": [
    "np.array(TN_ann2_perc)/(np.array(TN_ann2_perc)+np.array(FN_ann2_perc))"
   ]
  },
  {
   "cell_type": "code",
   "execution_count": 258,
   "id": "3d33b0b0-e1f7-40ed-88ea-98e9236bce86",
   "metadata": {},
   "outputs": [],
   "source": [
    "labels_ann1 = ['gene', 'transcript', 'exon', 'five prime utr', 'CDS', 'three prime utr']\n",
    "TP_ann1_perc = [384593, 384594, 46911, 1626, 19105, 15615]\n",
    "FP_ann1_perc = [10020, 10020, 2484, 798, 430, 282]\n",
    "TN_ann1_perc = [28642, 28642, 10826, 4897, 2124, 629]\n",
    "FN_ann1_perc = [5133, 5133, 880, 38, 397, 250]\n",
    "\n",
    "NPV = [0.848024, 0.848024, 0.924825, 0.992300 , 0.842523,\n",
    "       0.715586]\n",
    "\n",
    "TNR = [0.740831, 0.740831, 0.813373 , 0.859877, 0.831637, 0.690450]\n",
    "\n",
    "perc_pos = [0.909750, 0.909750, 0.782164, 0.226118, 0.884204, 0.945696]"
   ]
  },
  {
   "cell_type": "code",
   "execution_count": 257,
   "id": "a19f3aef-56de-4fc9-a767-fadf945c9384",
   "metadata": {},
   "outputs": [],
   "source": [
    "labels_ann2 = ['enhancer', 'open chromatin region', 'promoter', 'promoter flanking region', 'CTCF binding site', 'TF binding site']\n",
    "TP_ann2_perc = [15381, 7695, 9358, 49046, 16528, 2706]\n",
    "FP_ann2_perc = [292, 156, 6516, 1965, 2129, 197]\n",
    "TN_ann2_perc = [438, 211, 23012, 2587, 3768, 221]\n",
    "FN_ann2_perc = [283, 139, 237, 834, 380, 52]\n",
    "\n",
    "NPV = [0.607490, 0.602857, 0.989806, 0.756212, 0.908390, 0.809524]\n",
    "\n",
    "TNR = [0.600000, 0.574932, 0.779328 , 0.568322, 0.638969, 0.528708]\n",
    "\n",
    "perc_pos = [0.955472, 0.955249, 0.245252, 0.916373, 0.741416, 0.868388]"
   ]
  },
  {
   "cell_type": "code",
   "execution_count": null,
   "id": "69c9fc49-57ca-475b-9499-389af1594dc3",
   "metadata": {},
   "outputs": [],
   "source": [
    "t = time()\n",
    "annotated_all_regulatory = annotation(mask, regulatory_features_dict, inds, y_pred_C, y_lab)\n",
    "print(time() - t)"
   ]
  },
  {
   "cell_type": "code",
   "execution_count": null,
   "id": "a6446910-45c0-4fc5-aa2a-f45ed319999c",
   "metadata": {},
   "outputs": [],
   "source": [
    "np.save('/home/yarivl/thesis/results/anno/annotated_all_regulatory.npy', annotated_all_regulatory)"
   ]
  },
  {
   "cell_type": "code",
   "execution_count": null,
   "id": "88d7d470-b579-43a2-8ccd-3e1ae568eb32",
   "metadata": {},
   "outputs": [],
   "source": []
  },
  {
   "cell_type": "code",
   "execution_count": 230,
   "id": "9b3c5f94-c6e3-4031-82b2-ff824f9aac8e",
   "metadata": {},
   "outputs": [
    {
     "data": {
      "text/plain": [
       "array(['CDS', 'Selenocysteine', 'exon', 'five_prime_utr', 'gene',\n",
       "       'start_codon', 'stop_codon', 'three_prime_utr', 'transcript'],\n",
       "      dtype=object)"
      ]
     },
     "execution_count": 230,
     "metadata": {},
     "output_type": "execute_result"
    }
   ],
   "source": [
    "np.unique(features_dict[1][2])"
   ]
  },
  {
   "cell_type": "code",
   "execution_count": null,
   "id": "f1591ee9-b17c-40a9-983a-99e339a3368d",
   "metadata": {},
   "outputs": [],
   "source": []
  },
  {
   "cell_type": "code",
   "execution_count": 40,
   "id": "82432928-5526-4997-8851-18824503e4a4",
   "metadata": {},
   "outputs": [],
   "source": [
    "import random"
   ]
  },
  {
   "cell_type": "code",
   "execution_count": 107,
   "id": "fd7b5f99-d8de-4ebe-b91e-9ebc36c143a2",
   "metadata": {},
   "outputs": [],
   "source": [
    "np.save('/home/yarivl/thesis/results/anno/TP_ann1.npy', TP_ann1)"
   ]
  },
  {
   "cell_type": "code",
   "execution_count": null,
   "id": "28e19f4e-c1ff-4986-80fc-6e488a4df739",
   "metadata": {},
   "outputs": [],
   "source": [
    "mask = TP"
   ]
  },
  {
   "cell_type": "code",
   "execution_count": 51,
   "id": "42ad18d3-d4f1-4f24-891d-a566aec19635",
   "metadata": {},
   "outputs": [
    {
     "name": "stdout",
     "output_type": "stream",
     "text": [
      "150.26902675628662\n"
     ]
    }
   ],
   "source": [
    "t = time()\n",
    "TP_ann1 = annotation(TP, features_dict, inds, y_pred_C)\n",
    "print(time() - t)\n",
    "#np.save('/home/yarivl/thesis/results/anno/TP_ann1.npy', TP_ann1)"
   ]
  },
  {
   "cell_type": "code",
   "execution_count": 55,
   "id": "499d2012-e018-4c30-871c-2d5a3a234cda",
   "metadata": {},
   "outputs": [
    {
     "data": {
      "text/plain": [
       "0.00490716146768266"
      ]
     },
     "execution_count": 55,
     "metadata": {},
     "output_type": "execute_result"
    }
   ],
   "source": [
    "np.var(TP_ann1[2][0])"
   ]
  },
  {
   "cell_type": "code",
   "execution_count": 56,
   "id": "1d4965e7-41d9-46c0-8efd-be8c8ca3adbe",
   "metadata": {},
   "outputs": [
    {
     "name": "stdout",
     "output_type": "stream",
     "text": [
      "1418.7027323246002\n"
     ]
    }
   ],
   "source": [
    "t = time()\n",
    "TN_ann1 = annotation(TN, features_dict, inds, y_pred_C)\n",
    "print(time() - t)\n",
    "#np.save('/home/yarivl/thesis/results/anno/TN_ann1.npy', TN_ann1)"
   ]
  },
  {
   "cell_type": "code",
   "execution_count": 57,
   "id": "4eb4483f-0d44-4187-a197-64ee4fbaea6e",
   "metadata": {},
   "outputs": [
    {
     "name": "stdout",
     "output_type": "stream",
     "text": [
      "7442.893457651138\n"
     ]
    }
   ],
   "source": [
    "t = time()\n",
    "FN_ann1 = annotation(FN, features_dict, inds, y_pred_C)\n",
    "print(time() - t)\n",
    "#np.save('/home/yarivl/thesis/results/anno/FN_ann1.npy', FN_ann1)"
   ]
  },
  {
   "cell_type": "code",
   "execution_count": 58,
   "id": "a6e24dc8-b25a-4ddb-88b3-23724bd6aa65",
   "metadata": {},
   "outputs": [
    {
     "name": "stdout",
     "output_type": "stream",
     "text": [
      "3768.9823133945465\n"
     ]
    }
   ],
   "source": [
    "t = time()\n",
    "FP_ann1 = annotation(FP, features_dict, inds, y_pred_C)\n",
    "print(time() - t)\n",
    "#np.save('/home/yarivl/thesis/results/anno/FP_ann1.npy', FP_ann1)"
   ]
  },
  {
   "cell_type": "code",
   "execution_count": 115,
   "id": "3af3a688-8249-476e-ab0c-3f362a83e72c",
   "metadata": {},
   "outputs": [
    {
     "data": {
      "text/plain": [
       "2"
      ]
     },
     "execution_count": 115,
     "metadata": {},
     "output_type": "execute_result"
    }
   ],
   "source": [
    "1+1"
   ]
  },
  {
   "cell_type": "code",
   "execution_count": 1,
   "id": "0243043a-e455-4e93-b053-8f612e691def",
   "metadata": {},
   "outputs": [],
   "source": [
    "TP_ann2_perc = [431, 62, 145, 151, 51, 75] #915"
   ]
  },
  {
   "cell_type": "code",
   "execution_count": 2,
   "id": "7b743fdc-ec02-4aeb-9d4e-9df8ed2744c2",
   "metadata": {},
   "outputs": [],
   "source": [
    "TN_ann2_perc = [362, 25, 50, 555, 2932, 21] #3945"
   ]
  },
  {
   "cell_type": "code",
   "execution_count": 3,
   "id": "afb02f93-f840-4169-b83c-26d90de4b873",
   "metadata": {},
   "outputs": [],
   "source": [
    "FP_ann2_perc = [646, 50, 99, 701, 2381, 67] #3944"
   ]
  },
  {
   "cell_type": "code",
   "execution_count": 4,
   "id": "daacc7f5-218c-4ed8-a2a8-9e0e5a1aba16",
   "metadata": {},
   "outputs": [],
   "source": [
    "FN_ann2_perc = [523, 86, 170, 223, 143, 34] #1179"
   ]
  },
  {
   "cell_type": "code",
   "execution_count": null,
   "id": "bc491843-ae54-45cb-8201-ae60363bd3a9",
   "metadata": {},
   "outputs": [],
   "source": []
  },
  {
   "cell_type": "code",
   "execution_count": null,
   "id": "87dbd053-6ec6-4cd7-978a-b6d862d8d826",
   "metadata": {},
   "outputs": [],
   "source": []
  },
  {
   "cell_type": "code",
   "execution_count": 5,
   "id": "bb7cea6e-adc6-4dbf-80cd-ac1089ecd069",
   "metadata": {},
   "outputs": [],
   "source": [
    "labels_ann1 = ['gene/transcript', 'exon', 'three prime utr', 'five prime utr', 'CDS']"
   ]
  },
  {
   "cell_type": "code",
   "execution_count": 6,
   "id": "e0fc8d55-6f95-436a-9ef1-bdfa7a664ae8",
   "metadata": {},
   "outputs": [
    {
     "data": {
      "text/plain": [
       "[4148]"
      ]
     },
     "execution_count": 6,
     "metadata": {},
     "output_type": "execute_result"
    }
   ],
   "source": [
    "[545 + 3196 + 238 + 146 + 23]"
   ]
  },
  {
   "cell_type": "code",
   "execution_count": 7,
   "id": "242e3560-f8a2-4431-87f3-bfb9939694cb",
   "metadata": {},
   "outputs": [],
   "source": [
    "TP_ann1_perc = [3850, 482, 76, 8, 277] #4693"
   ]
  },
  {
   "cell_type": "code",
   "execution_count": 8,
   "id": "ff28e602-8631-4586-9a85-cd09bc13b39b",
   "metadata": {},
   "outputs": [],
   "source": [
    "TN_ann1_perc = [3506, 1362, 58, 698, 255] #5879"
   ]
  },
  {
   "cell_type": "code",
   "execution_count": 9,
   "id": "63b41e3c-c04d-43e6-9a04-7badbdea4bde",
   "metadata": {},
   "outputs": [],
   "source": [
    "FP_ann1_perc = [3540, 872, 95, 293, 126] #4926"
   ]
  },
  {
   "cell_type": "code",
   "execution_count": 10,
   "id": "5f61eda9-ea4e-405a-a6db-659c1605ec66",
   "metadata": {},
   "outputs": [],
   "source": [
    "FN_ann1_perc = [3196, 545, 146, 23, 238] #4148"
   ]
  },
  {
   "cell_type": "code",
   "execution_count": null,
   "id": "c54e2268-1ae1-4414-8e14-61003b3c2234",
   "metadata": {},
   "outputs": [],
   "source": []
  },
  {
   "cell_type": "markdown",
   "id": "5415a5ba-46cb-4923-a326-8d8e7231fc78",
   "metadata": {},
   "source": [
    "# Create plots"
   ]
  },
  {
   "cell_type": "code",
   "execution_count": 14,
   "id": "1931f63b-9818-4369-9039-f946ce757101",
   "metadata": {},
   "outputs": [],
   "source": [
    "import matplotlib.pyplot as plt\n",
    "import numpy as np"
   ]
  },
  {
   "cell_type": "code",
   "execution_count": 259,
   "id": "37b7f314-8d4b-4857-8f42-ba68baa98c37",
   "metadata": {},
   "outputs": [
    {
     "data": {
      "image/png": "[encoded data removed]",
      "text/plain": [
       "<Figure size 432x288 with 1 Axes>"
      ]
     },
     "metadata": {
      "needs_background": "light"
     },
     "output_type": "display_data"
    }
   ],
   "source": [
    "import matplotlib.pyplot as plt\n",
    "fig, ax = plt.subplots()\n",
    "\n",
    "X_axis = np.arange(len(labels_ann1))\n",
    "  \n",
    "ax.bar(X_axis - 0.3, TP_ann1_perc, 0.2, label = 'TP')\n",
    "ax.bar(X_axis - 0.1, FN_ann1_perc, 0.2, label = 'FN')\n",
    "ax.bar(X_axis + 0.1, TN_ann1_perc, 0.2, label = 'TN')\n",
    "ax.bar(X_axis + 0.3, FP_ann1_perc, 0.2, label = 'FP')\n",
    "\n",
    "ax.set_title('Annotation frequency')\n",
    "plt.xticks(X_axis, labels_ann1, rotation=90)\n",
    "plt.legend()\n",
    "\n",
    "plt.show()"
   ]
  },
  {
   "cell_type": "code",
   "execution_count": 260,
   "id": "d0593dd7-240e-4d02-b5de-7f8e095412cf",
   "metadata": {},
   "outputs": [
    {
     "data": {
      "image/png": "[encoded data removed]",
      "text/plain": [
       "<Figure size 432x288 with 1 Axes>"
      ]
     },
     "metadata": {
      "needs_background": "light"
     },
     "output_type": "display_data"
    }
   ],
   "source": [
    "import matplotlib.pyplot as plt\n",
    "fig, ax = plt.subplots()\n",
    "\n",
    "X_axis = np.arange(len(labels_ann2))\n",
    "  \n",
    "ax.bar(X_axis - 0.3, TP_ann2_perc, 0.2, label = 'TP')\n",
    "ax.bar(X_axis - 0.1, FN_ann2_perc, 0.2, label = 'FN')\n",
    "ax.bar(X_axis + 0.1, TN_ann2_perc, 0.2, label = 'TN')\n",
    "ax.bar(X_axis + 0.3, FP_ann2_perc, 0.2, label = 'FP')\n",
    "\n",
    "ax.set_title('Annotation frequency')\n",
    "plt.xticks(X_axis, labels_ann2, rotation=90)\n",
    "plt.legend()\n",
    "\n",
    "plt.show()"
   ]
  },
  {
   "cell_type": "code",
   "execution_count": 266,
   "id": "61073afb-fdd0-4ad8-8823-a5fe6d6ac098",
   "metadata": {},
   "outputs": [
    {
     "data": {
      "text/plain": [
       "<BarContainer object of 6 artists>"
      ]
     },
     "execution_count": 266,
     "metadata": {},
     "output_type": "execute_result"
    },
    {
     "data": {
      "image/png": "[encoded data removed]",
      "text/plain": [
       "<Figure size 432x288 with 1 Axes>"
      ]
     },
     "metadata": {
      "needs_background": "light"
     },
     "output_type": "display_data"
    }
   ],
   "source": [
    "plt.bar(labels_ann1, FN_ann1_perc)"
   ]
  },
  {
   "cell_type": "code",
   "execution_count": 125,
   "id": "6a33a88d-494d-44ab-9fb0-b6a4254598ea",
   "metadata": {},
   "outputs": [
    {
     "data": {
      "text/plain": [
       "<BarContainer object of 6 artists>"
      ]
     },
     "execution_count": 125,
     "metadata": {},
     "output_type": "execute_result"
    },
    {
     "data": {
      "image/png": "[encoded data removed]",
      "text/plain": [
       "<Figure size 432x288 with 1 Axes>"
      ]
     },
     "metadata": {
      "needs_background": "light"
     },
     "output_type": "display_data"
    }
   ],
   "source": [
    "plt.bar(FP_ann1[0], FP_ann1[1])"
   ]
  },
  {
   "cell_type": "code",
   "execution_count": 126,
   "id": "912aa264-dd30-487c-8f61-887c122a29da",
   "metadata": {},
   "outputs": [
    {
     "data": {
      "text/plain": [
       "<BarContainer object of 6 artists>"
      ]
     },
     "execution_count": 126,
     "metadata": {},
     "output_type": "execute_result"
    },
    {
     "data": {
      "image/png": "[encoded data removed]",
      "text/plain": [
       "<Figure size 432x288 with 1 Axes>"
      ]
     },
     "metadata": {
      "needs_background": "light"
     },
     "output_type": "display_data"
    }
   ],
   "source": [
    "plt.bar(TN_ann1[0], TN_ann1[1])"
   ]
  },
  {
   "cell_type": "code",
   "execution_count": 127,
   "id": "f025e031-975b-404a-859a-d08bd80c50ae",
   "metadata": {},
   "outputs": [
    {
     "data": {
      "text/plain": [
       "<BarContainer object of 6 artists>"
      ]
     },
     "execution_count": 127,
     "metadata": {},
     "output_type": "execute_result"
    },
    {
     "data": {
      "image/png": "[encoded data removed]",
      "text/plain": [
       "<Figure size 432x288 with 1 Axes>"
      ]
     },
     "metadata": {
      "needs_background": "light"
     },
     "output_type": "display_data"
    }
   ],
   "source": [
    "plt.bar(FN_ann1[0], FN_ann1[1])"
   ]
  }
 ],
 "metadata": {
  "kernelspec": {
   "display_name": "Python 3",
   "language": "python",
   "name": "python3"
  },
  "language_info": {
   "codemirror_mode": {
    "name": "ipython",
    "version": 3
   },
   "file_extension": ".py",
   "mimetype": "text/x-python",
   "name": "python",
   "nbconvert_exporter": "python",
   "pygments_lexer": "ipython3",
   "version": "3.8.10"
  }
 },
 "nbformat": 4,
 "nbformat_minor": 5
}
