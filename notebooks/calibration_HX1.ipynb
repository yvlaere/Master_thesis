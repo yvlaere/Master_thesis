{
 "cells": [
  {
   "cell_type": "markdown",
   "id": "4db1c9ab-7618-48d7-815b-8d8d92bba9fa",
   "metadata": {
    "tags": []
   },
   "source": [
    "# Model calibration"
   ]
  },
  {
   "cell_type": "markdown",
   "id": "66518057-8412-412c-996f-c02e3e1624bf",
   "metadata": {},
   "source": [
    "## Necessary functions"
   ]
  },
  {
   "cell_type": "code",
   "execution_count": 1,
   "id": "f0cc2d2d-4795-4bc9-9948-359c0466c594",
   "metadata": {},
   "outputs": [],
   "source": [
    "from sklearn.calibration import calibration_curve\n",
    "#average gap across all bins in a reliability diagram, weighted by the number of instances in each bin\n",
    "from pycalib.metrics import binary_ECE\n",
    "#1/N*sum((y_hat - y_true)^2)\n",
    "from sklearn.metrics import brier_score_loss\n",
    "#-1/N*sum(y_true*log(y_hat) + (1 - y_true*log(1 - y_hat)))\n",
    "from sklearn.metrics import log_loss\n",
    "\n",
    "def plot_calibration_curve(y_true, y_hat, name, title):\n",
    "    \"\"\"Plot calibration curve\"\"\"\n",
    "\n",
    "    fig = plt.figure()\n",
    "    ax1 = plt.subplot2grid((4, 1), (0, 0), rowspan = 2)\n",
    "    ax2 = plt.subplot2grid((4, 1), (3, 0))\n",
    "    \n",
    "    ax1.plot([0, 1], [0, 1], \"k:\", label= \"Perfectly calibrated\")\n",
    "    \n",
    "    frac_of_pos, mean_pred_value = calibration_curve(y_true, y_hat, n_bins = 10)\n",
    "\n",
    "    ax1.plot(mean_pred_value, frac_of_pos, \"s-\", label = f'{name}')\n",
    "    ax1.set_ylabel(\"Fraction of positives\")\n",
    "    ax1.set_ylim([-0.05, 1.05])\n",
    "    ax1.legend(loc = \"lower right\")\n",
    "    ax1.set_title(f'Calibration plot ({name})')\n",
    "    \n",
    "    ax2.hist(y_hat, range=(0, 1), bins = 10, label = name, histtype = \"step\", lw = 2)\n",
    "    ax2.set_xlabel(\"Mean predicted value\")\n",
    "    ax2.set_ylabel(\"Count\")\n",
    "    \n",
    "    fig.savefig(title, bbox_inches='tight', dpi=150)\n",
    "    \n",
    "def eval_cali(y_true, y_hat, name, title):\n",
    "    plot_calibration_curve(y_true, y_hat, name, title)\n",
    "    ECE = binary_ECE(y_true, y_hat)\n",
    "    brier_loss = brier_score_loss(y_true, y_hat)\n",
    "    ce_loss = log_loss(y_true, y_hat, eps = 1e-6)\n",
    "    print(\"ECE: \" + str(ECE))\n",
    "    print(\"brier score: \" + str(brier_loss))\n",
    "    print(\"crossentropy loss: \" + str(ce_loss))"
   ]
  },
  {
   "cell_type": "code",
   "execution_count": 2,
   "id": "b21757e8-9708-46c1-a43a-47161a6cf72b",
   "metadata": {},
   "outputs": [],
   "source": [
    "import matplotlib.pyplot as plt\n",
    "import pandas as pd \n",
    "import numpy as np\n",
    "from scipy.stats import chi2\n",
    "\n",
    "def HosmerLemeshow(y_hat, y_true, bins):\n",
    "    #sort the data\n",
    "    inds = np.argsort(y_hat)\n",
    "    y_hat = y_hat[inds]\n",
    "    y_true = y_true[inds]\n",
    "    binned = []\n",
    "    \n",
    "    #bin the data in equally-sized bins\n",
    "    cuts = [i/bins for i in range(bins + 1)]\n",
    "    binned_y_hat = [y_hat[int(np.round(cuts[i]*len(y_hat))):int(np.round(cuts[i + 1]*len(y_hat)))] for i in range(len(cuts) - 1)]\n",
    "    binned_y_true = [y_true[int(np.round(cuts[i]*len(y_true))):int(np.round(cuts[i + 1]*len(y_true)))] for i in range(len(cuts) - 1)]\n",
    "\n",
    "    H = 0\n",
    "    eps = 0.001\n",
    "    \n",
    "    #calculate the hosmer statistic\n",
    "    for i in range(bins):\n",
    "        bin_len = len(binned_y_true[i])\n",
    "        observed_1 = eps + sum(binned_y_true[i])\n",
    "        expected_1 = eps + np.mean(binned_y_hat[i])*bin_len\n",
    "        observed_0 = eps + bin_len - observed_1\n",
    "        expected_0 = 2*eps + bin_len - expected_1\n",
    "        \n",
    "        H += (((observed_1 - expected_1)**2)/expected_1) + (((observed_0 - expected_0)**2)/expected_0)\n",
    "        \n",
    "    print(H)\n",
    "    #determine the p-value\n",
    "    pvalue = 1 - chi2.cdf(H, bins - 2)\n",
    "    \n",
    "    return pvalue, binned_y_hat, binned_y_true"
   ]
  },
  {
   "cell_type": "code",
   "execution_count": 149,
   "id": "a003dfc0-fbad-4340-a28a-4c827f698d3a",
   "metadata": {},
   "outputs": [
    {
     "data": {
      "text/plain": [
       "'\\n#can be used to make graphs of equally sized bins\\nmean_predicted_value = []\\nfraction_of_positives = []\\n\\nfor i in range(len(b_y_hat)):\\n    mean_predicted_value.append(np.mean(b_y_hat[i]))\\n    fraction_of_positives.append(sum(b_y_true[i])/len(b_y_true[i]))\\n    \\n#adapted version of the kolmogorov-smirnof statistical test\\nfrom scipy.stats import ks_2samp\\nks_2samp(mean_predicted_value, fraction_of_positives)\\n\\n#plot calibration curve with equally sized bins\\nplt.scatter(mean_predicted_value, fraction_of_positives)\\nplt.xlabel(\"mean predicted values\")\\nplt.ylabel(\"fraction of positives\")\\nplt.title(\"uncalibrated\")\\n'"
      ]
     },
     "execution_count": 149,
     "metadata": {},
     "output_type": "execute_result"
    }
   ],
   "source": [
    "\"\"\"\n",
    "#can be used to make graphs of equally sized bins\n",
    "mean_predicted_value = []\n",
    "fraction_of_positives = []\n",
    "\n",
    "for i in range(len(b_y_hat)):\n",
    "    mean_predicted_value.append(np.mean(b_y_hat[i]))\n",
    "    fraction_of_positives.append(sum(b_y_true[i])/len(b_y_true[i]))\n",
    "    \n",
    "#adapted version of the kolmogorov-smirnof statistical test\n",
    "from scipy.stats import ks_2samp\n",
    "ks_2samp(mean_predicted_value, fraction_of_positives)\n",
    "\n",
    "#plot calibration curve with equally sized bins\n",
    "plt.scatter(mean_predicted_value, fraction_of_positives)\n",
    "plt.xlabel(\"mean predicted values\")\n",
    "plt.ylabel(\"fraction of positives\")\n",
    "plt.title(\"uncalibrated\")\n",
    "\"\"\""
   ]
  },
  {
   "cell_type": "markdown",
   "id": "a84e46b7-cf70-4b99-bf44-0610a7ac3433",
   "metadata": {},
   "source": [
    "## Load y_hat and y_true data"
   ]
  },
  {
   "cell_type": "code",
   "execution_count": 3,
   "id": "51d7d478-2a95-41e4-a214-a50baf42499a",
   "metadata": {},
   "outputs": [],
   "source": [
    "y_hat_test = np.load('/home/yarivl/thesis/results/ConvNeXt/HX1/y_hat_test.npy')\n",
    "y_true_test = np.load('/home/yarivl/thesis/results/ConvNeXt/HX1/y_true_test.npy')\n",
    "y_hat_val = np.load('/home/yarivl/thesis/results/ConvNeXt/HX1/y_hat_val.npy')\n",
    "y_true_val = np.load('/home/yarivl/thesis/results/ConvNeXt/HX1/y_true_val.npy')"
   ]
  },
  {
   "cell_type": "markdown",
   "id": "fa9fa942-9635-4c89-9aed-bd6fa2360de4",
   "metadata": {},
   "source": [
    "## Evaluate uncalibrated validation set"
   ]
  },
  {
   "cell_type": "code",
   "execution_count": 4,
   "id": "3b948dc9-381a-4b5d-bc2a-80e8f7c790cc",
   "metadata": {},
   "outputs": [
    {
     "name": "stdout",
     "output_type": "stream",
     "text": [
      "392.7282303002878\n"
     ]
    }
   ],
   "source": [
    "p_val, b_y_hat, b_y_true = HosmerLemeshow(y_hat_val, y_true_val, 10)"
   ]
  },
  {
   "cell_type": "code",
   "execution_count": 5,
   "id": "68f3394e-2ccb-4caf-9ffc-4f1bd8301ee0",
   "metadata": {},
   "outputs": [
    {
     "data": {
      "text/plain": [
       "0.0"
      ]
     },
     "execution_count": 5,
     "metadata": {},
     "output_type": "execute_result"
    }
   ],
   "source": [
    "p_val"
   ]
  },
  {
   "cell_type": "code",
   "execution_count": 7,
   "id": "16abab2b-9771-4860-b4be-8943712508a7",
   "metadata": {},
   "outputs": [
    {
     "name": "stdout",
     "output_type": "stream",
     "text": [
      "ECE: 0.0015350970425194424\n",
      "brier score: 0.02583243439908291\n",
      "crossentropy loss: 0.09110552919411238\n"
     ]
    },
    {
     "data": {
      "image/png": "[encoded data removed]",
      "text/plain": [
       "<Figure size 432x288 with 2 Axes>"
      ]
     },
     "metadata": {
      "needs_background": "light"
     },
     "output_type": "display_data"
    }
   ],
   "source": [
    "eval_cali(y_true_val, y_hat_val, \"uncalibrated\", \"t_hx1_val_uncal.png\")"
   ]
  },
  {
   "cell_type": "markdown",
   "id": "7f8b2a76-ead9-4369-ba1a-be1a229588db",
   "metadata": {},
   "source": [
    "## Evaluate calibrated validation set"
   ]
  },
  {
   "cell_type": "markdown",
   "id": "9ca9a129-bdf1-47cf-97a4-227edd19bb2d",
   "metadata": {},
   "source": [
    "### Isotonic regression"
   ]
  },
  {
   "cell_type": "code",
   "execution_count": 8,
   "id": "e6bc623b-d706-4591-8f93-705920ccd333",
   "metadata": {},
   "outputs": [],
   "source": [
    "from sklearn.isotonic import IsotonicRegression\n",
    "\n",
    "iso_reg = IsotonicRegression(out_of_bounds = 'clip').fit(y_hat_val, y_true_val)\n",
    "y_cal_val_isotonic = iso_reg.predict(y_hat_val)"
   ]
  },
  {
   "cell_type": "code",
   "execution_count": 9,
   "id": "a4bef851-0124-4045-8eee-a7209d246710",
   "metadata": {},
   "outputs": [
    {
     "name": "stdout",
     "output_type": "stream",
     "text": [
      "0.4187461593670912\n"
     ]
    }
   ],
   "source": [
    "p_val_iso, b_y_hat_iso, b_y_true_iso = HosmerLemeshow(y_cal_val_isotonic, y_true_val, 10)"
   ]
  },
  {
   "cell_type": "code",
   "execution_count": 10,
   "id": "24b517f9-f825-497a-8d89-3c7642560edb",
   "metadata": {},
   "outputs": [
    {
     "data": {
      "text/plain": [
       "0.9999322381333509"
      ]
     },
     "execution_count": 10,
     "metadata": {},
     "output_type": "execute_result"
    }
   ],
   "source": [
    "p_val_iso"
   ]
  },
  {
   "cell_type": "code",
   "execution_count": 11,
   "id": "981f08fd-ec8b-436d-b5cc-6c832e931512",
   "metadata": {},
   "outputs": [
    {
     "name": "stdout",
     "output_type": "stream",
     "text": [
      "ECE: 7.259700880027898e-07\n",
      "brier score: 0.025788726522880067\n",
      "crossentropy loss: 0.09059362661001229\n"
     ]
    },
    {
     "data": {
      "image/png": "[encoded data removed]",
      "text/plain": [
       "<Figure size 432x288 with 2 Axes>"
      ]
     },
     "metadata": {
      "needs_background": "light"
     },
     "output_type": "display_data"
    }
   ],
   "source": [
    "eval_cali(y_true_val, y_cal_val_isotonic, \"isotonic regression\", \"t_hx1_val_iso.png\")"
   ]
  },
  {
   "cell_type": "markdown",
   "id": "a29530d9-9bcb-4606-83a6-0b77e18b9a69",
   "metadata": {},
   "source": [
    "### Platt scaling"
   ]
  },
  {
   "cell_type": "code",
   "execution_count": 12,
   "id": "f759436e-f465-47a3-83a7-294f0eb2af1d",
   "metadata": {},
   "outputs": [],
   "source": [
    "from sklearn.linear_model import LogisticRegression\n",
    "\n",
    "log_reg = LogisticRegression().fit(y_hat_val.reshape(-1, 1), y_true_val)\n",
    "y_cal_val_logistic = log_reg.predict(y_hat_val.reshape(-1, 1))"
   ]
  },
  {
   "cell_type": "code",
   "execution_count": 13,
   "id": "14eda713-d02a-4d7c-abdc-741e86a3e3c2",
   "metadata": {},
   "outputs": [
    {
     "name": "stdout",
     "output_type": "stream",
     "text": [
      "24413548220.90017\n"
     ]
    }
   ],
   "source": [
    "p_val_log, b_y_hat_log, b_y_true_log = HosmerLemeshow(y_cal_val_logistic, y_true_val, 10)"
   ]
  },
  {
   "cell_type": "code",
   "execution_count": 14,
   "id": "36c1a23d-1de2-4515-9352-5216649fe9a4",
   "metadata": {},
   "outputs": [
    {
     "data": {
      "text/plain": [
       "0.0"
      ]
     },
     "execution_count": 14,
     "metadata": {},
     "output_type": "execute_result"
    }
   ],
   "source": [
    "p_val_log"
   ]
  },
  {
   "cell_type": "code",
   "execution_count": 15,
   "id": "c42c9d64-9d15-4444-9ca8-f4513d2078f2",
   "metadata": {},
   "outputs": [
    {
     "name": "stdout",
     "output_type": "stream",
     "text": [
      "ECE: 0.03528445924739943\n",
      "brier score: 0.03528446563116903\n",
      "crossentropy loss: 0.4871551637860206\n"
     ]
    },
    {
     "data": {
      "image/png": "[encoded data removed]",
      "text/plain": [
       "<Figure size 432x288 with 2 Axes>"
      ]
     },
     "metadata": {
      "needs_background": "light"
     },
     "output_type": "display_data"
    }
   ],
   "source": [
    "eval_cali(y_true_val, y_cal_val_logistic, \"Platt scaling\", \"t_hx1_val_pla.png\")"
   ]
  },
  {
   "cell_type": "markdown",
   "id": "328f6847-4edb-4bc3-a364-5f60bcefabaf",
   "metadata": {},
   "source": [
    "## Evaluate uncalibrated test set"
   ]
  },
  {
   "cell_type": "code",
   "execution_count": 16,
   "id": "779a31a0-b180-4181-a7cb-d4cc6303ccc5",
   "metadata": {},
   "outputs": [
    {
     "name": "stdout",
     "output_type": "stream",
     "text": [
      "262.25142388515314\n"
     ]
    }
   ],
   "source": [
    "p_test, b_y_hat_test, b_y_true_test = HosmerLemeshow(y_hat_test, y_true_test, 10)"
   ]
  },
  {
   "cell_type": "code",
   "execution_count": 17,
   "id": "ea51c108-ea8d-4669-a11d-49fff766f0a2",
   "metadata": {},
   "outputs": [
    {
     "data": {
      "text/plain": [
       "0.0"
      ]
     },
     "execution_count": 17,
     "metadata": {},
     "output_type": "execute_result"
    }
   ],
   "source": [
    "p_test"
   ]
  },
  {
   "cell_type": "code",
   "execution_count": 18,
   "id": "da4f2bbe-5361-4bc4-9415-42ed0154d8e8",
   "metadata": {},
   "outputs": [
    {
     "name": "stdout",
     "output_type": "stream",
     "text": [
      "ECE: 0.0019101205599762522\n",
      "brier score: 0.02614984823470129\n",
      "crossentropy loss: 0.0913845926054415\n"
     ]
    },
    {
     "data": {
      "image/png": "[encoded data removed]",
      "text/plain": [
       "<Figure size 432x288 with 2 Axes>"
      ]
     },
     "metadata": {
      "needs_background": "light"
     },
     "output_type": "display_data"
    }
   ],
   "source": [
    "eval_cali(y_true_test, y_hat_test, \"uncalibrated\", \"t_hx1_test_uncal.png\")"
   ]
  },
  {
   "cell_type": "markdown",
   "id": "7e12e4d4-5100-4f96-8bbd-ab872fd13cf2",
   "metadata": {
    "tags": []
   },
   "source": [
    "## Evaluate calibrated test set"
   ]
  },
  {
   "cell_type": "markdown",
   "id": "d9cb85be-d33f-4d7d-9388-671f08b6569b",
   "metadata": {},
   "source": [
    "### Isotonic regression"
   ]
  },
  {
   "cell_type": "code",
   "execution_count": 19,
   "id": "68bd4c80-035e-4c23-adde-14ff2275ccc2",
   "metadata": {},
   "outputs": [],
   "source": [
    "y_cal_test_isotonic = iso_reg.predict(y_hat_test)"
   ]
  },
  {
   "cell_type": "code",
   "execution_count": 20,
   "id": "1957d8e2-3034-425a-9a0d-60a13f72c253",
   "metadata": {},
   "outputs": [
    {
     "name": "stdout",
     "output_type": "stream",
     "text": [
      "29.94972297914865\n"
     ]
    }
   ],
   "source": [
    "p_test_iso, b_y_hat_iso_test, b_y_true_iso_test = HosmerLemeshow(y_cal_test_isotonic, y_true_test, 10)"
   ]
  },
  {
   "cell_type": "code",
   "execution_count": 21,
   "id": "51bb9cb0-e688-41a2-b0bc-bd544a98b988",
   "metadata": {},
   "outputs": [
    {
     "data": {
      "text/plain": [
       "0.0002157478707260907"
      ]
     },
     "execution_count": 21,
     "metadata": {},
     "output_type": "execute_result"
    }
   ],
   "source": [
    "p_test_iso"
   ]
  },
  {
   "cell_type": "code",
   "execution_count": 22,
   "id": "3475812f-00a1-48a5-b5cf-1aa6ab79ad96",
   "metadata": {},
   "outputs": [
    {
     "name": "stdout",
     "output_type": "stream",
     "text": [
      "ECE: 0.0007300804235208037\n",
      "brier score: 0.026148754940781616\n",
      "crossentropy loss: 0.09120710384598363\n"
     ]
    },
    {
     "data": {
      "image/png": "[encoded data removed]",
      "text/plain": [
       "<Figure size 432x288 with 2 Axes>"
      ]
     },
     "metadata": {
      "needs_background": "light"
     },
     "output_type": "display_data"
    }
   ],
   "source": [
    "eval_cali(y_true_test, y_cal_test_isotonic, \"isotonic regression\", \"t_hx1_test_iso.png\")"
   ]
  },
  {
   "cell_type": "markdown",
   "id": "b3a8b157-23ef-40fd-9f7a-7b1560da929a",
   "metadata": {},
   "source": [
    "### Platt scaling"
   ]
  },
  {
   "cell_type": "code",
   "execution_count": 23,
   "id": "6d40c989-5dd1-465c-a7db-3e623ea5af3e",
   "metadata": {},
   "outputs": [],
   "source": [
    "y_cal_test_logistic = log_reg.predict(y_hat_test.reshape(-1, 1))"
   ]
  },
  {
   "cell_type": "code",
   "execution_count": 24,
   "id": "0962dfe9-13f5-4e21-b42c-34f4ead49e2d",
   "metadata": {},
   "outputs": [
    {
     "name": "stdout",
     "output_type": "stream",
     "text": [
      "24842973022.46219\n"
     ]
    }
   ],
   "source": [
    "p_test_log, b_y_hat_log, b_y_true_log = HosmerLemeshow(y_cal_test_logistic, y_true_test, 10)"
   ]
  },
  {
   "cell_type": "code",
   "execution_count": 25,
   "id": "f1567bad-78de-4243-9f69-2ec397688ec3",
   "metadata": {},
   "outputs": [
    {
     "data": {
      "text/plain": [
       "0.0"
      ]
     },
     "execution_count": 25,
     "metadata": {},
     "output_type": "execute_result"
    }
   ],
   "source": [
    "p_test_log"
   ]
  },
  {
   "cell_type": "code",
   "execution_count": 26,
   "id": "cc66a412-7a83-465a-9b2d-fac782e38622",
   "metadata": {},
   "outputs": [
    {
     "name": "stdout",
     "output_type": "stream",
     "text": [
      "ECE: 0.03583744831363789\n",
      "brier score: 0.03583746977217767\n",
      "crossentropy loss: 0.4947908375687343\n"
     ]
    },
    {
     "data": {
      "image/png": "[encoded data removed]",
      "text/plain": [
       "<Figure size 432x288 with 2 Axes>"
      ]
     },
     "metadata": {
      "needs_background": "light"
     },
     "output_type": "display_data"
    }
   ],
   "source": [
    "eval_cali(y_true_test, y_cal_test_logistic, \"Platt scaling\", \"t_hx1_test_pla.png\")"
   ]
  },
  {
   "cell_type": "markdown",
   "id": "ec4cb9e1-ce97-4d12-8741-eb03fca1d7e7",
   "metadata": {},
   "source": [
    "## Store new calibrated test values"
   ]
  },
  {
   "cell_type": "code",
   "execution_count": 27,
   "id": "f75027f0-70c1-4f11-b2f9-db84febe9013",
   "metadata": {},
   "outputs": [],
   "source": [
    "np.save('/home/yarivl/thesis/results/ConvNeXt/HX1/y_cal_test_isotonic.npy', y_cal_test_isotonic)"
   ]
  },
  {
   "cell_type": "code",
   "execution_count": 29,
   "id": "48cc9660-5427-4620-9275-687c5e34ea3f",
   "metadata": {},
   "outputs": [],
   "source": [
    "#dataset and model architectures\n",
    "from WGBSDataset import WGBSDataset\n",
    "from NSDataset6 import NSDataset\n",
    "from TCN_model import TCN_model\n",
    "from ConvNeXt_model112 import ConvNeXt_model\n",
    "from Transformer_model_window16 import Transformer_model\n",
    "\n",
    "#other modules and packages\n",
    "import os\n",
    "import numpy as np\n",
    "import h5py\n",
    "import math\n",
    "import torch\n",
    "import pandas as pd\n",
    "from torch import split\n",
    "from time import time\n",
    "from torch.utils.data import Subset\n",
    "from sklearn.model_selection import train_test_split\n",
    "import matplotlib.pyplot as plt\n",
    "from sklearn.metrics import precision_recall_curve\n",
    "from sklearn.metrics import roc_curve\n",
    "from sklearn import metrics\n",
    "from torch.utils.data import DataLoader\n",
    "from torch.utils.data import Dataset\n",
    "import pytorch_lightning as pl\n",
    "import torchmetrics\n",
    "from torch.nn.utils.rnn import pad_sequence\n",
    "from sklearn.metrics import average_precision_score\n",
    "import random"
   ]
  },
  {
   "cell_type": "code",
   "execution_count": 32,
   "id": "30f7ad36-944f-4a98-87cf-4b0280230770",
   "metadata": {},
   "outputs": [],
   "source": [
    "from sklearn.metrics import accuracy_score\n",
    "from sklearn.metrics import precision_score\n",
    "from sklearn.metrics import recall_score"
   ]
  },
  {
   "cell_type": "code",
   "execution_count": 30,
   "id": "84e89dac-652d-460d-85a8-7991ae3dd983",
   "metadata": {},
   "outputs": [
    {
     "name": "stdout",
     "output_type": "stream",
     "text": [
      "AUC_ROC: 0.9789308819431108\n",
      "AUC_PR: 0.9976641097403222\n"
     ]
    }
   ],
   "source": [
    "#calculate precision, recall, false positive rate, true positive rate\n",
    "fpr, tpr, thresholds_ROC = roc_curve(y_true_test, y_hat_test)\n",
    "precision, recall, thresholds_PR = precision_recall_curve(y_true_test, y_hat_test)\n",
    "\n",
    "#calculate area under the curve\n",
    "AUC_ROC = metrics.auc(fpr, tpr)\n",
    "AUC_PR = average_precision_score(y_true_test, y_hat_test)\n",
    "print(\"AUC_ROC: \" + str(AUC_ROC))\n",
    "print(\"AUC_PR: \" + str(AUC_PR))\n"
   ]
  },
  {
   "cell_type": "code",
   "execution_count": 33,
   "id": "6613bccf-ef49-4410-b79e-5145a1654c2f",
   "metadata": {},
   "outputs": [],
   "source": [
    "acc = accuracy_score(y_true_test, np.round(y_hat_test))\n",
    "prec = precision_score(y_true_test, np.round(y_hat_test))\n",
    "rec = recall_score(y_true_test, np.round(y_hat_test))"
   ]
  },
  {
   "cell_type": "code",
   "execution_count": 34,
   "id": "f52879eb-80b4-4412-9b3c-5d5fb3eb3122",
   "metadata": {},
   "outputs": [
    {
     "name": "stdout",
     "output_type": "stream",
     "text": [
      "accuracy: 0.9642898052691867\n",
      "precision: 0.9750852496208737\n",
      "recall: 0.9861221121824946\n"
     ]
    }
   ],
   "source": [
    "print(\"accuracy: \" + str(acc))\n",
    "print(\"precision: \" + str(prec))\n",
    "print(\"recall: \" + str(rec))"
   ]
  },
  {
   "cell_type": "code",
   "execution_count": 97,
   "id": "3e4968e6-cc16-472d-ae87-b33a0f111870",
   "metadata": {},
   "outputs": [
    {
     "name": "stdout",
     "output_type": "stream",
     "text": [
      "AUC_ROC: 0.993325834190382\n",
      "AUC_PR: 0.9917748773987703\n"
     ]
    }
   ],
   "source": [
    "#calculate precision, recall, false positive rate, true positive rate\n",
    "fpr, tpr, thresholds_ROC = roc_curve(y_true_test, y_cal_test_isotonic)\n",
    "precision, recall, thresholds_PR = precision_recall_curve(y_true_test, y_cal_test_isotonic)\n",
    "\n",
    "#calculate area under the curve\n",
    "AUC_ROC = metrics.auc(fpr, tpr)\n",
    "AUC_PR = average_precision_score(y_true_test, y_cal_test_isotonic)\n",
    "print(\"AUC_ROC: \" + str(AUC_ROC))\n",
    "print(\"AUC_PR: \" + str(AUC_PR))\n"
   ]
  },
  {
   "cell_type": "code",
   "execution_count": 98,
   "id": "36df6831-8278-4236-aee6-304beecffa45",
   "metadata": {},
   "outputs": [],
   "source": [
    "acc = accuracy_score(y_true_test, np.round(y_cal_test_isotonic))\n",
    "prec = precision_score(y_true_test, np.round(y_cal_test_isotonic))\n",
    "rec = recall_score(y_true_test, np.round(y_cal_test_isotonic))"
   ]
  },
  {
   "cell_type": "code",
   "execution_count": 99,
   "id": "4d34b1a2-d36d-464a-ab94-92866ed90e20",
   "metadata": {},
   "outputs": [
    {
     "name": "stdout",
     "output_type": "stream",
     "text": [
      "accuracy: 0.9521761151720555\n",
      "precision: 0.9426752878110658\n",
      "recall: 0.9424801031333173\n"
     ]
    }
   ],
   "source": [
    "print(\"accuracy: \" + str(acc))\n",
    "print(\"precision: \" + str(prec))\n",
    "print(\"recall: \" + str(rec))"
   ]
  },
  {
   "cell_type": "code",
   "execution_count": 36,
   "id": "3c0966b7-ddab-46bd-98d0-7e66786dc68b",
   "metadata": {},
   "outputs": [],
   "source": [
    "fpr, tpr, thresholds_ROC = roc_curve(y_true_test, y_cal_test_isotonic)\n",
    "precision, recall, thresholds_PR = precision_recall_curve(y_true_test, y_cal_test_isotonic)"
   ]
  },
  {
   "cell_type": "code",
   "execution_count": 45,
   "id": "b0bb66b9-718f-4c40-aaa8-8b94452c400a",
   "metadata": {},
   "outputs": [
    {
     "data": {
      "image/png": "[encoded data removed]",
      "text/plain": [
       "<Figure size 432x288 with 1 Axes>"
      ]
     },
     "metadata": {
      "needs_background": "light"
     },
     "output_type": "display_data"
    }
   ],
   "source": [
    "fig, ax = plt.subplots()\n",
    "ax.set_xlabel('False positive rate')\n",
    "ax.set_ylabel('True positive rate')\n",
    "ax.set_title('Receiver Operating Characteristics curve')\n",
    "ax.axvline(x = 0, color='black', linestyle='--', linewidth = 1)\n",
    "ax.axhline(y = 1, color='black', linestyle='--', linewidth = 1)\n",
    "plt.ylim(-0.05, 1.05)\n",
    "ax.plot(fpr, tpr, \"b-\", label = f'{\"ConvNeXt\"}')\n",
    "ax.legend(loc = \"lower right\")\n",
    "\n",
    "fig.savefig(\"roc_hx1\", bbox_inches='tight', dpi=150)\n",
    "\n",
    "plt.show()"
   ]
  },
  {
   "cell_type": "code",
   "execution_count": 46,
   "id": "ae94c934-ec8c-48e2-b84b-6f3a21f004de",
   "metadata": {},
   "outputs": [
    {
     "data": {
      "image/png": "[encoded data removed]",
      "text/plain": [
       "<Figure size 432x288 with 1 Axes>"
      ]
     },
     "metadata": {
      "needs_background": "light"
     },
     "output_type": "display_data"
    }
   ],
   "source": [
    "import matplotlib.pyplot as plt\n",
    "fig, ax = plt.subplots()\n",
    "plt.ylim(-0.05, 1.05)\n",
    "ax.set_xlabel('Recall')\n",
    "ax.set_ylabel('Precision')\n",
    "ax.set_title('Precision-Recall curve')\n",
    "ax.axvline(x = 1, color='black', linestyle='--', linewidth = 1)\n",
    "ax.axhline(y = 1, color='black', linestyle='--', linewidth = 1)\n",
    "ax.plot(recall, precision, \"b-\", label = f'{\"ConvNeXt\"}')\n",
    "#ax.plot(recall[:1935769], thresholds_PR, color = 'orange')\n",
    "ax.legend(loc = \"lower left\")\n",
    "\n",
    "fig.savefig(\"pr_hx1\", bbox_inches='tight', dpi=150)\n",
    "\n",
    "plt.show()"
   ]
  },
  {
   "cell_type": "code",
   "execution_count": 47,
   "id": "30a3b249-b098-4a5e-bec4-b81cd92ac079",
   "metadata": {},
   "outputs": [],
   "source": [
    "y_hat_test_t = np.load('/home/yarivl/thesis/results/Transformer/E_coli/y_cal_test_isotonic.npy')\n",
    "y_true_test = np.load('/home/yarivl/thesis/results/Transformer/E_coli/y_true_test.npy')\n",
    "y_hat_test_c = np.load('/home/yarivl/thesis/results/ConvNeXt/E_coli/y_cal_test_isotonic.npy')"
   ]
  },
  {
   "cell_type": "code",
   "execution_count": 48,
   "id": "7600f77f-ea7a-4162-ae58-b653f951af53",
   "metadata": {},
   "outputs": [],
   "source": [
    "fpr1, tpr1, thresholds_ROC1 = roc_curve(y_true_test, y_hat_test_c)\n",
    "fpr2, tpr2, thresholds_ROC2 = roc_curve(y_true_test, y_hat_test_t)"
   ]
  },
  {
   "cell_type": "code",
   "execution_count": 49,
   "id": "1b10d71d-3929-4971-8520-0d5c5345a77e",
   "metadata": {},
   "outputs": [
    {
     "data": {
      "image/png": "[encoded data removed]",
      "text/plain": [
       "<Figure size 432x288 with 1 Axes>"
      ]
     },
     "metadata": {
      "needs_background": "light"
     },
     "output_type": "display_data"
    }
   ],
   "source": [
    "fig, ax = plt.subplots()\n",
    "plt.ylim(-0.05, 1.05)\n",
    "ax.set_xlabel('False positive rate')\n",
    "ax.set_ylabel('True positive rate')\n",
    "ax.set_title('Receiver Operating Characteristics curve')\n",
    "ax.axvline(x = 0, color='black', linestyle='--', linewidth = 1)\n",
    "ax.axhline(y = 1, color='black', linestyle='--', linewidth = 1)\n",
    "ax.plot(fpr1, tpr1, \"b-\", label = f'{\"ConvNeXt\"}')\n",
    "ax.plot(fpr2, tpr2, \"r-\", label = f'{\"Transformer\"}')\n",
    "ax.legend(loc = \"lower right\")\n",
    "\n",
    "fig.savefig(\"roc_ecol\", bbox_inches='tight', dpi=150)\n",
    "\n",
    "plt.show()"
   ]
  },
  {
   "cell_type": "code",
   "execution_count": 50,
   "id": "3ce36297-1b25-4ecd-80a0-9671ab5d4209",
   "metadata": {},
   "outputs": [],
   "source": [
    "precision1, recall1, thresholds_PR1 = precision_recall_curve(y_true_test, y_hat_test_c)\n",
    "precision2, recall2, thresholds_PR2 = precision_recall_curve(y_true_test, y_hat_test_t)"
   ]
  },
  {
   "cell_type": "code",
   "execution_count": 51,
   "id": "9db8256c-eec3-4dd1-aef0-e341550df34f",
   "metadata": {},
   "outputs": [
    {
     "data": {
      "image/png": "[encoded data removed]",
      "text/plain": [
       "<Figure size 432x288 with 1 Axes>"
      ]
     },
     "metadata": {
      "needs_background": "light"
     },
     "output_type": "display_data"
    }
   ],
   "source": [
    "import matplotlib.pyplot as plt\n",
    "fig, ax = plt.subplots()\n",
    "plt.ylim(-0.05, 1.05)\n",
    "ax.set_xlabel('Recall')\n",
    "ax.set_ylabel('Precision')\n",
    "ax.set_title('Precision-Recall curve')\n",
    "ax.axvline(x = 1, color='black', linestyle='--', linewidth = 1)\n",
    "ax.axhline(y = 1, color='black', linestyle='--', linewidth = 1)\n",
    "ax.plot(recall1, precision1, \"b-\", label = f'{\"ConvNeXt\"}')\n",
    "ax.plot(recall2, precision2, \"r-\", label = f'{\"Transformer\"}')\n",
    "#ax.plot(recall[:1935769], thresholds_PR, color = 'orange')\n",
    "ax.legend(loc = \"lower left\")\n",
    "\n",
    "fig.savefig(\"pr_ecol\", bbox_inches='tight', dpi=150)\n",
    "\n",
    "plt.show()"
   ]
  }
 ],
 "metadata": {
  "kernelspec": {
   "display_name": "Python 3",
   "language": "python",
   "name": "python3"
  },
  "language_info": {
   "codemirror_mode": {
    "name": "ipython",
    "version": 3
   },
   "file_extension": ".py",
   "mimetype": "text/x-python",
   "name": "python",
   "nbconvert_exporter": "python",
   "pygments_lexer": "ipython3",
   "version": "3.8.10"
  }
 },
 "nbformat": 4,
 "nbformat_minor": 5
}
