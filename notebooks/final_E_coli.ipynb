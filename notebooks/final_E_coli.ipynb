{
 "cells": [
  {
   "cell_type": "markdown",
   "id": "04b54bb3-e95a-48f0-9388-75e0b42e7a80",
   "metadata": {},
   "source": [
    "# Cytosine methylation prediction with neural networks"
   ]
  },
  {
   "cell_type": "markdown",
   "id": "b2dd6c93-ba27-4d4e-b5e0-5c09904a6a17",
   "metadata": {},
   "source": [
    "## Import packages and modules"
   ]
  },
  {
   "cell_type": "code",
   "execution_count": 2,
   "id": "ff32daa1-df92-4294-b9be-9296d71ce0b1",
   "metadata": {},
   "outputs": [],
   "source": [
    "#dataset and model architectures\n",
    "from WGBSDataset import WGBSDataset\n",
    "from NSDataset6 import NSDataset\n",
    "from TCN_model import TCN_model\n",
    "from ConvNeXt_model112 import ConvNeXt_model\n",
    "from Transformer_model_window16 import Transformer_model\n",
    "\n",
    "#other modules and packages\n",
    "import os\n",
    "import numpy as np\n",
    "import h5py\n",
    "import math\n",
    "import torch\n",
    "import pandas as pd\n",
    "from torch import split\n",
    "from time import time\n",
    "from torch.utils.data import Subset\n",
    "from sklearn.model_selection import train_test_split\n",
    "import matplotlib.pyplot as plt\n",
    "from sklearn.metrics import precision_recall_curve\n",
    "from sklearn.metrics import roc_curve\n",
    "from sklearn import metrics\n",
    "from torch.utils.data import DataLoader\n",
    "from torch.utils.data import Dataset\n",
    "import pytorch_lightning as pl\n",
    "import torchmetrics\n",
    "from torch.nn.utils.rnn import pad_sequence\n",
    "from sklearn.metrics import average_precision_score\n",
    "import random"
   ]
  },
  {
   "cell_type": "markdown",
   "id": "a0e7808e-22c4-46ae-b856-2a0deef7a4b9",
   "metadata": {},
   "source": [
    "## Initialization: only has to be done once"
   ]
  },
  {
   "cell_type": "markdown",
   "id": "1daf08d7-a090-47a9-8b05-8504b5c82775",
   "metadata": {},
   "source": [
    "### Prepare the WGBS data"
   ]
  },
  {
   "cell_type": "code",
   "execution_count": 7,
   "id": "c8807bd0-3d5b-4cd7-a95c-926c4229f4e7",
   "metadata": {},
   "outputs": [],
   "source": [
    "#directory to the nanopore sequencing data\n",
    "NS_dir = '/home/yarivl/temp/'\n",
    "\n",
    "#directories to WGBS coverage files\n",
    "coverage_dir_1 = '/home/yarivl/WGBS_data_replicate1/SRR8936101.1_1_bismark_bt2_pe.deduplicated.bismark.cov'\n",
    "coverage_dir_2 = '/home/yarivl/WGBS_data_replicate2/SRR8936102.1_1_bismark_bt2_pe.deduplicated.bismark.cov'\n",
    "\n",
    "#directories to store processed files\n",
    "WGBS_dir_1 = '/home/yarivl/thesis/WGBS_data/labels_per_chromosome_1/'\n",
    "WGBS_dir_2 = '/home/yarivl/thesis/WGBS_data/labels_per_chromosome_2/'\n",
    "WGBS_dir_merged = '/home/yarivl/thesis/WGBS_data/labels_per_chromosome_merged/'\n",
    "label_dict_dir = '/home/yarivl/thesis/WGBS_data/npzs/'"
   ]
  },
  {
   "cell_type": "code",
   "execution_count": null,
   "id": "ad8b7bc4-09cb-4f80-b420-c4142362c235",
   "metadata": {},
   "outputs": [],
   "source": [
    "#create directory for storing all necessary files\n",
    "if not os.path.exists(WGBS_dir_1):\n",
    "    os.makedirs(WGBS_dir_1)\n",
    "if not os.path.exists(WGBS_dir_2):\n",
    "    os.makedirs(WGBS_dir_2)\n",
    "if not os.path.exists(WGBS_dir_merged):\n",
    "    os.makedirs(WGBS_dir_merged)\n",
    "if not os.path.exists(label_dict_dir):\n",
    "    os.makedirs(label_dict_dir)\n",
    "    \n",
    "#choose parameters for dataset creation\n",
    "min_coverage = 3\n",
    "interval_size = 1000000\n",
    "\n",
    "#create a dataset object\n",
    "WGBS_dataset = WGBSDataset(fast5_dir = NS_dir)\n",
    "    \n",
    "#filter WGBS data\n",
    "WGBS_dataset.filter_WGBS(coverage_dir_1, WGBS_dir_1, min_coverage, upper_cutoff = 90.0, lower_cutoff = 0.0)\n",
    "WGBS_dataset.filter_WGBS(coverage_dir_2, WGBS_dir_2, min_coverage, upper_cutoff = 90.0, lower_cutoff = 0.0)\n",
    "\n",
    "#merge WGBS data\n",
    "WGBS_dataset.merge_WGBS(WGBS_dir_1, WGBS_dir_2, WGBS_dir_merged, min_coverage)\n",
    "\n",
    "#create label dictionaries\n",
    "WGBS_dataset.prepare_WGBS(WGBS_dir_merged, label_dict_dir, min_coverage, interval_size)"
   ]
  },
  {
   "cell_type": "markdown",
   "id": "c476d72b-b3aa-4587-9bad-07d7f88e516d",
   "metadata": {},
   "source": [
    "### Create dataset object"
   ]
  },
  {
   "cell_type": "code",
   "execution_count": 8,
   "id": "8b21781d-69a1-4183-b46d-c9d083a33c7b",
   "metadata": {},
   "outputs": [],
   "source": [
    "dataset = NSDataset(fast5_dir = NS_dir, label_dict_dir = None, CpG = True) #17:10 appr 13 min"
   ]
  },
  {
   "cell_type": "code",
   "execution_count": null,
   "id": "d8cc44cc-3e7d-4cdc-9fbd-847dfe136547",
   "metadata": {},
   "outputs": [],
   "source": [
    "torch.save(EC_dataset, 'E_coli_train_val_test_split/dataset.pt')"
   ]
  },
  {
   "cell_type": "code",
   "execution_count": 9,
   "id": "89606a6e-1d3c-4dac-99cc-a0670d2751ec",
   "metadata": {},
   "outputs": [],
   "source": [
    "train_inds = []\n",
    "val_inds = []\n",
    "test_inds = []\n",
    "#lens = np.sort(dataset.lengths)\n",
    "\n",
    "for i in range(len(dataset)):\n",
    "    #if lens[i] <= 5000:\n",
    "    rand = random.random()\n",
    "    if rand < 0.8:\n",
    "        train_inds.append(i)\n",
    "    elif rand < 0.9:\n",
    "        val_inds.append(i)\n",
    "    else:\n",
    "        test_inds.append(i)"
   ]
  },
  {
   "cell_type": "code",
   "execution_count": null,
   "id": "26bdd7f3-673c-4d27-b77f-7b82f455ffa8",
   "metadata": {},
   "outputs": [],
   "source": [
    "np.save('ConvNeXt_E_coli/train_inds.npy', train_inds)\n",
    "np.save('ConvNeXt_E_coli/test_inds.npy', test_inds)\n",
    "np.save('ConvNeXt_E_coli/val_inds.npy', val_inds)"
   ]
  },
  {
   "cell_type": "markdown",
   "id": "6aac5096-6993-404f-8903-8066981c0ad7",
   "metadata": {},
   "source": [
    "# Necessary functions"
   ]
  },
  {
   "cell_type": "code",
   "execution_count": 13,
   "id": "c74ae6ae-aaa3-4dcb-9390-3138d5720412",
   "metadata": {},
   "outputs": [],
   "source": [
    "#collate function for dataloader\n",
    "def custom_collate(data):\n",
    "    #unpack data\n",
    "    X = [seq for seq, target in data]\n",
    "    Y = [target for seq, target in data]\n",
    "    \n",
    "    #pad data\n",
    "    x = seqs_padded_batched = pad_sequence(X)\n",
    "    x = torch.transpose(x, dim0 = 1, dim1 = 2)\n",
    "    x = torch.transpose(x, dim0 = 0, dim1 = 2)\n",
    "    \n",
    "    #pad labels\n",
    "    y = targets_padded_batched = pad_sequence(Y, padding_value = 2.0)\n",
    "    y = torch.transpose(y, dim0 = 0, dim1 = 1)\n",
    "    return x, y"
   ]
  },
  {
   "cell_type": "markdown",
   "id": "a4b7ff29-a337-4312-906f-144f4eb07a72",
   "metadata": {},
   "source": [
    "## Load data"
   ]
  },
  {
   "cell_type": "code",
   "execution_count": 4,
   "id": "026fb4fa-ee03-42a6-baf0-1ed9394c93c4",
   "metadata": {},
   "outputs": [],
   "source": [
    "dataset = torch.load('/home/yarivl/thesis/E_coli_train_val_test_split/dataset_E_coli.pt')"
   ]
  },
  {
   "cell_type": "code",
   "execution_count": 5,
   "id": "d348c9a5-7e09-4813-ba5b-cdc71b6dec61",
   "metadata": {},
   "outputs": [],
   "source": [
    "train_inds = np.load('E_coli_train_val_test_split/train_inds.npy')\n",
    "val_inds = np.load('E_coli_train_val_test_split/val_inds.npy')\n",
    "test_inds = np.load('E_coli_train_val_test_split/test_inds.npy')"
   ]
  },
  {
   "cell_type": "code",
   "execution_count": 11,
   "id": "9e83d699-9033-4a5d-b47f-b367f7be340d",
   "metadata": {},
   "outputs": [
    {
     "data": {
      "text/plain": [
       "15184"
      ]
     },
     "execution_count": 11,
     "metadata": {},
     "output_type": "execute_result"
    }
   ],
   "source": [
    "len(test_inds) + len(val_inds) + len(train_inds)"
   ]
  },
  {
   "cell_type": "code",
   "execution_count": 10,
   "id": "2bd8bf79-022b-41cd-8b21-ea3464afc7d9",
   "metadata": {},
   "outputs": [],
   "source": [
    "train = Subset(dataset, train_inds)\n",
    "val = Subset(dataset, val_inds)\n",
    "test = Subset(dataset, test_inds)"
   ]
  },
  {
   "cell_type": "markdown",
   "id": "99fa00dd-88b4-4d85-bccd-a0aba38c3ebf",
   "metadata": {},
   "source": [
    "## Train model"
   ]
  },
  {
   "cell_type": "code",
   "execution_count": null,
   "id": "ed2f610c-20c0-4240-9b10-fa4aafb2cb56",
   "metadata": {
    "tags": []
   },
   "outputs": [
    {
     "name": "stderr",
     "output_type": "stream",
     "text": [
      "/home/yarivl/anaconda3/envs/thesis/lib/python3.9/site-packages/pytorch_lightning/utilities/device_parser.py:135: LightningDeprecationWarning: Parsing of the Trainer argument gpus='1' (string) will change in the future. In the current version of Lightning, this will select CUDA device with index 1, but from v1.5 it will select gpus [0] (same as gpus=1 (int)).\n",
      "  rank_zero_deprecation(\n",
      "GPU available: True, used: True\n",
      "TPU available: False, using: 0 TPU cores\n",
      "IPU available: False, using: 0 IPUs\n",
      "LOCAL_RANK: 0 - CUDA_VISIBLE_DEVICES: [0,1]\n",
      "\n",
      "  | Name               | Type                   | Params\n",
      "--------------------------------------------------------------\n",
      "0 | tp                 | TransformerPreparation | 0     \n",
      "1 | connection_layers  | ModuleList             | 6.9 K \n",
      "2 | transformer_layers | ModuleList             | 115 K \n",
      "3 | decoder            | Sequential             | 65    \n",
      "--------------------------------------------------------------\n",
      "122 K     Trainable params\n",
      "0         Non-trainable params\n",
      "122 K     Total params\n",
      "0.490     Total estimated model params size (MB)\n"
     ]
    },
    {
     "data": {
      "application/vnd.jupyter.widget-view+json": {
       "model_id": "",
       "version_major": 2,
       "version_minor": 0
      },
      "text/plain": [
       "Validation sanity check: 0it [00:00, ?it/s]"
      ]
     },
     "metadata": {},
     "output_type": "display_data"
    },
    {
     "data": {
      "application/vnd.jupyter.widget-view+json": {
       "model_id": "9bc93491c68d414582ba581d81eb88cd",
       "version_major": 2,
       "version_minor": 0
      },
      "text/plain": [
       "Training: -1it [00:00, ?it/s]"
      ]
     },
     "metadata": {},
     "output_type": "display_data"
    },
    {
     "name": "stderr",
     "output_type": "stream",
     "text": [
      "/home/yarivl/anaconda3/envs/thesis/lib/python3.9/site-packages/torchmetrics/utilities/prints.py:36: UserWarning: No positive samples in targets, true positive value should be meaningless. Returning zero tensor in true positive score\n",
      "  warnings.warn(*args, **kwargs)\n",
      "/home/yarivl/anaconda3/envs/thesis/lib/python3.9/site-packages/torchmetrics/utilities/prints.py:36: UserWarning: No negative samples in targets, false positive value should be meaningless. Returning zero tensor in false positive score\n",
      "  warnings.warn(*args, **kwargs)\n"
     ]
    },
    {
     "data": {
      "application/vnd.jupyter.widget-view+json": {
       "model_id": "",
       "version_major": 2,
       "version_minor": 0
      },
      "text/plain": [
       "Validating: 0it [00:00, ?it/s]"
      ]
     },
     "metadata": {},
     "output_type": "display_data"
    },
    {
     "data": {
      "application/vnd.jupyter.widget-view+json": {
       "model_id": "",
       "version_major": 2,
       "version_minor": 0
      },
      "text/plain": [
       "Validating: 0it [00:00, ?it/s]"
      ]
     },
     "metadata": {},
     "output_type": "display_data"
    },
    {
     "data": {
      "application/vnd.jupyter.widget-view+json": {
       "model_id": "",
       "version_major": 2,
       "version_minor": 0
      },
      "text/plain": [
       "Validating: 0it [00:00, ?it/s]"
      ]
     },
     "metadata": {},
     "output_type": "display_data"
    },
    {
     "data": {
      "application/vnd.jupyter.widget-view+json": {
       "model_id": "",
       "version_major": 2,
       "version_minor": 0
      },
      "text/plain": [
       "Validating: 0it [00:00, ?it/s]"
      ]
     },
     "metadata": {},
     "output_type": "display_data"
    },
    {
     "data": {
      "application/vnd.jupyter.widget-view+json": {
       "model_id": "",
       "version_major": 2,
       "version_minor": 0
      },
      "text/plain": [
       "Validating: 0it [00:00, ?it/s]"
      ]
     },
     "metadata": {},
     "output_type": "display_data"
    },
    {
     "data": {
      "application/vnd.jupyter.widget-view+json": {
       "model_id": "",
       "version_major": 2,
       "version_minor": 0
      },
      "text/plain": [
       "Validating: 0it [00:00, ?it/s]"
      ]
     },
     "metadata": {},
     "output_type": "display_data"
    },
    {
     "data": {
      "application/vnd.jupyter.widget-view+json": {
       "model_id": "",
       "version_major": 2,
       "version_minor": 0
      },
      "text/plain": [
       "Validating: 0it [00:00, ?it/s]"
      ]
     },
     "metadata": {},
     "output_type": "display_data"
    },
    {
     "data": {
      "application/vnd.jupyter.widget-view+json": {
       "model_id": "",
       "version_major": 2,
       "version_minor": 0
      },
      "text/plain": [
       "Validating: 0it [00:00, ?it/s]"
      ]
     },
     "metadata": {},
     "output_type": "display_data"
    },
    {
     "data": {
      "application/vnd.jupyter.widget-view+json": {
       "model_id": "",
       "version_major": 2,
       "version_minor": 0
      },
      "text/plain": [
       "Validating: 0it [00:00, ?it/s]"
      ]
     },
     "metadata": {},
     "output_type": "display_data"
    },
    {
     "data": {
      "application/vnd.jupyter.widget-view+json": {
       "model_id": "",
       "version_major": 2,
       "version_minor": 0
      },
      "text/plain": [
       "Validating: 0it [00:00, ?it/s]"
      ]
     },
     "metadata": {},
     "output_type": "display_data"
    },
    {
     "data": {
      "application/vnd.jupyter.widget-view+json": {
       "model_id": "",
       "version_major": 2,
       "version_minor": 0
      },
      "text/plain": [
       "Validating: 0it [00:00, ?it/s]"
      ]
     },
     "metadata": {},
     "output_type": "display_data"
    },
    {
     "data": {
      "application/vnd.jupyter.widget-view+json": {
       "model_id": "",
       "version_major": 2,
       "version_minor": 0
      },
      "text/plain": [
       "Validating: 0it [00:00, ?it/s]"
      ]
     },
     "metadata": {},
     "output_type": "display_data"
    },
    {
     "data": {
      "application/vnd.jupyter.widget-view+json": {
       "model_id": "",
       "version_major": 2,
       "version_minor": 0
      },
      "text/plain": [
       "Validating: 0it [00:00, ?it/s]"
      ]
     },
     "metadata": {},
     "output_type": "display_data"
    },
    {
     "data": {
      "application/vnd.jupyter.widget-view+json": {
       "model_id": "",
       "version_major": 2,
       "version_minor": 0
      },
      "text/plain": [
       "Validating: 0it [00:00, ?it/s]"
      ]
     },
     "metadata": {},
     "output_type": "display_data"
    },
    {
     "data": {
      "application/vnd.jupyter.widget-view+json": {
       "model_id": "",
       "version_major": 2,
       "version_minor": 0
      },
      "text/plain": [
       "Validating: 0it [00:00, ?it/s]"
      ]
     },
     "metadata": {},
     "output_type": "display_data"
    },
    {
     "data": {
      "application/vnd.jupyter.widget-view+json": {
       "model_id": "",
       "version_major": 2,
       "version_minor": 0
      },
      "text/plain": [
       "Validating: 0it [00:00, ?it/s]"
      ]
     },
     "metadata": {},
     "output_type": "display_data"
    },
    {
     "data": {
      "application/vnd.jupyter.widget-view+json": {
       "model_id": "",
       "version_major": 2,
       "version_minor": 0
      },
      "text/plain": [
       "Validating: 0it [00:00, ?it/s]"
      ]
     },
     "metadata": {},
     "output_type": "display_data"
    },
    {
     "data": {
      "application/vnd.jupyter.widget-view+json": {
       "model_id": "",
       "version_major": 2,
       "version_minor": 0
      },
      "text/plain": [
       "Validating: 0it [00:00, ?it/s]"
      ]
     },
     "metadata": {},
     "output_type": "display_data"
    },
    {
     "data": {
      "application/vnd.jupyter.widget-view+json": {
       "model_id": "",
       "version_major": 2,
       "version_minor": 0
      },
      "text/plain": [
       "Validating: 0it [00:00, ?it/s]"
      ]
     },
     "metadata": {},
     "output_type": "display_data"
    },
    {
     "data": {
      "application/vnd.jupyter.widget-view+json": {
       "model_id": "",
       "version_major": 2,
       "version_minor": 0
      },
      "text/plain": [
       "Validating: 0it [00:00, ?it/s]"
      ]
     },
     "metadata": {},
     "output_type": "display_data"
    },
    {
     "data": {
      "application/vnd.jupyter.widget-view+json": {
       "model_id": "",
       "version_major": 2,
       "version_minor": 0
      },
      "text/plain": [
       "Validating: 0it [00:00, ?it/s]"
      ]
     },
     "metadata": {},
     "output_type": "display_data"
    },
    {
     "data": {
      "application/vnd.jupyter.widget-view+json": {
       "model_id": "",
       "version_major": 2,
       "version_minor": 0
      },
      "text/plain": [
       "Validating: 0it [00:00, ?it/s]"
      ]
     },
     "metadata": {},
     "output_type": "display_data"
    },
    {
     "data": {
      "application/vnd.jupyter.widget-view+json": {
       "model_id": "",
       "version_major": 2,
       "version_minor": 0
      },
      "text/plain": [
       "Validating: 0it [00:00, ?it/s]"
      ]
     },
     "metadata": {},
     "output_type": "display_data"
    },
    {
     "data": {
      "application/vnd.jupyter.widget-view+json": {
       "model_id": "",
       "version_major": 2,
       "version_minor": 0
      },
      "text/plain": [
       "Validating: 0it [00:00, ?it/s]"
      ]
     },
     "metadata": {},
     "output_type": "display_data"
    },
    {
     "data": {
      "application/vnd.jupyter.widget-view+json": {
       "model_id": "",
       "version_major": 2,
       "version_minor": 0
      },
      "text/plain": [
       "Validating: 0it [00:00, ?it/s]"
      ]
     },
     "metadata": {},
     "output_type": "display_data"
    },
    {
     "data": {
      "application/vnd.jupyter.widget-view+json": {
       "model_id": "",
       "version_major": 2,
       "version_minor": 0
      },
      "text/plain": [
       "Validating: 0it [00:00, ?it/s]"
      ]
     },
     "metadata": {},
     "output_type": "display_data"
    },
    {
     "data": {
      "application/vnd.jupyter.widget-view+json": {
       "model_id": "",
       "version_major": 2,
       "version_minor": 0
      },
      "text/plain": [
       "Validating: 0it [00:00, ?it/s]"
      ]
     },
     "metadata": {},
     "output_type": "display_data"
    },
    {
     "data": {
      "application/vnd.jupyter.widget-view+json": {
       "model_id": "",
       "version_major": 2,
       "version_minor": 0
      },
      "text/plain": [
       "Validating: 0it [00:00, ?it/s]"
      ]
     },
     "metadata": {},
     "output_type": "display_data"
    },
    {
     "data": {
      "application/vnd.jupyter.widget-view+json": {
       "model_id": "",
       "version_major": 2,
       "version_minor": 0
      },
      "text/plain": [
       "Validating: 0it [00:00, ?it/s]"
      ]
     },
     "metadata": {},
     "output_type": "display_data"
    },
    {
     "data": {
      "application/vnd.jupyter.widget-view+json": {
       "model_id": "",
       "version_major": 2,
       "version_minor": 0
      },
      "text/plain": [
       "Validating: 0it [00:00, ?it/s]"
      ]
     },
     "metadata": {},
     "output_type": "display_data"
    },
    {
     "data": {
      "application/vnd.jupyter.widget-view+json": {
       "model_id": "",
       "version_major": 2,
       "version_minor": 0
      },
      "text/plain": [
       "Validating: 0it [00:00, ?it/s]"
      ]
     },
     "metadata": {},
     "output_type": "display_data"
    },
    {
     "data": {
      "application/vnd.jupyter.widget-view+json": {
       "model_id": "",
       "version_major": 2,
       "version_minor": 0
      },
      "text/plain": [
       "Validating: 0it [00:00, ?it/s]"
      ]
     },
     "metadata": {},
     "output_type": "display_data"
    },
    {
     "data": {
      "application/vnd.jupyter.widget-view+json": {
       "model_id": "",
       "version_major": 2,
       "version_minor": 0
      },
      "text/plain": [
       "Validating: 0it [00:00, ?it/s]"
      ]
     },
     "metadata": {},
     "output_type": "display_data"
    },
    {
     "data": {
      "application/vnd.jupyter.widget-view+json": {
       "model_id": "",
       "version_major": 2,
       "version_minor": 0
      },
      "text/plain": [
       "Validating: 0it [00:00, ?it/s]"
      ]
     },
     "metadata": {},
     "output_type": "display_data"
    },
    {
     "data": {
      "application/vnd.jupyter.widget-view+json": {
       "model_id": "",
       "version_major": 2,
       "version_minor": 0
      },
      "text/plain": [
       "Validating: 0it [00:00, ?it/s]"
      ]
     },
     "metadata": {},
     "output_type": "display_data"
    },
    {
     "data": {
      "application/vnd.jupyter.widget-view+json": {
       "model_id": "",
       "version_major": 2,
       "version_minor": 0
      },
      "text/plain": [
       "Validating: 0it [00:00, ?it/s]"
      ]
     },
     "metadata": {},
     "output_type": "display_data"
    },
    {
     "data": {
      "application/vnd.jupyter.widget-view+json": {
       "model_id": "",
       "version_major": 2,
       "version_minor": 0
      },
      "text/plain": [
       "Validating: 0it [00:00, ?it/s]"
      ]
     },
     "metadata": {},
     "output_type": "display_data"
    },
    {
     "data": {
      "application/vnd.jupyter.widget-view+json": {
       "model_id": "",
       "version_major": 2,
       "version_minor": 0
      },
      "text/plain": [
       "Validating: 0it [00:00, ?it/s]"
      ]
     },
     "metadata": {},
     "output_type": "display_data"
    },
    {
     "data": {
      "application/vnd.jupyter.widget-view+json": {
       "model_id": "",
       "version_major": 2,
       "version_minor": 0
      },
      "text/plain": [
       "Validating: 0it [00:00, ?it/s]"
      ]
     },
     "metadata": {},
     "output_type": "display_data"
    },
    {
     "data": {
      "application/vnd.jupyter.widget-view+json": {
       "model_id": "",
       "version_major": 2,
       "version_minor": 0
      },
      "text/plain": [
       "Validating: 0it [00:00, ?it/s]"
      ]
     },
     "metadata": {},
     "output_type": "display_data"
    },
    {
     "data": {
      "application/vnd.jupyter.widget-view+json": {
       "model_id": "",
       "version_major": 2,
       "version_minor": 0
      },
      "text/plain": [
       "Validating: 0it [00:00, ?it/s]"
      ]
     },
     "metadata": {},
     "output_type": "display_data"
    },
    {
     "data": {
      "application/vnd.jupyter.widget-view+json": {
       "model_id": "",
       "version_major": 2,
       "version_minor": 0
      },
      "text/plain": [
       "Validating: 0it [00:00, ?it/s]"
      ]
     },
     "metadata": {},
     "output_type": "display_data"
    },
    {
     "data": {
      "application/vnd.jupyter.widget-view+json": {
       "model_id": "",
       "version_major": 2,
       "version_minor": 0
      },
      "text/plain": [
       "Validating: 0it [00:00, ?it/s]"
      ]
     },
     "metadata": {},
     "output_type": "display_data"
    },
    {
     "data": {
      "application/vnd.jupyter.widget-view+json": {
       "model_id": "",
       "version_major": 2,
       "version_minor": 0
      },
      "text/plain": [
       "Validating: 0it [00:00, ?it/s]"
      ]
     },
     "metadata": {},
     "output_type": "display_data"
    },
    {
     "data": {
      "application/vnd.jupyter.widget-view+json": {
       "model_id": "",
       "version_major": 2,
       "version_minor": 0
      },
      "text/plain": [
       "Validating: 0it [00:00, ?it/s]"
      ]
     },
     "metadata": {},
     "output_type": "display_data"
    },
    {
     "data": {
      "application/vnd.jupyter.widget-view+json": {
       "model_id": "",
       "version_major": 2,
       "version_minor": 0
      },
      "text/plain": [
       "Validating: 0it [00:00, ?it/s]"
      ]
     },
     "metadata": {},
     "output_type": "display_data"
    },
    {
     "data": {
      "application/vnd.jupyter.widget-view+json": {
       "model_id": "",
       "version_major": 2,
       "version_minor": 0
      },
      "text/plain": [
       "Validating: 0it [00:00, ?it/s]"
      ]
     },
     "metadata": {},
     "output_type": "display_data"
    },
    {
     "data": {
      "application/vnd.jupyter.widget-view+json": {
       "model_id": "",
       "version_major": 2,
       "version_minor": 0
      },
      "text/plain": [
       "Validating: 0it [00:00, ?it/s]"
      ]
     },
     "metadata": {},
     "output_type": "display_data"
    },
    {
     "data": {
      "application/vnd.jupyter.widget-view+json": {
       "model_id": "",
       "version_major": 2,
       "version_minor": 0
      },
      "text/plain": [
       "Validating: 0it [00:00, ?it/s]"
      ]
     },
     "metadata": {},
     "output_type": "display_data"
    },
    {
     "data": {
      "application/vnd.jupyter.widget-view+json": {
       "model_id": "",
       "version_major": 2,
       "version_minor": 0
      },
      "text/plain": [
       "Validating: 0it [00:00, ?it/s]"
      ]
     },
     "metadata": {},
     "output_type": "display_data"
    },
    {
     "data": {
      "application/vnd.jupyter.widget-view+json": {
       "model_id": "",
       "version_major": 2,
       "version_minor": 0
      },
      "text/plain": [
       "Validating: 0it [00:00, ?it/s]"
      ]
     },
     "metadata": {},
     "output_type": "display_data"
    },
    {
     "data": {
      "application/vnd.jupyter.widget-view+json": {
       "model_id": "",
       "version_major": 2,
       "version_minor": 0
      },
      "text/plain": [
       "Validating: 0it [00:00, ?it/s]"
      ]
     },
     "metadata": {},
     "output_type": "display_data"
    },
    {
     "data": {
      "application/vnd.jupyter.widget-view+json": {
       "model_id": "",
       "version_major": 2,
       "version_minor": 0
      },
      "text/plain": [
       "Validating: 0it [00:00, ?it/s]"
      ]
     },
     "metadata": {},
     "output_type": "display_data"
    },
    {
     "data": {
      "application/vnd.jupyter.widget-view+json": {
       "model_id": "",
       "version_major": 2,
       "version_minor": 0
      },
      "text/plain": [
       "Validating: 0it [00:00, ?it/s]"
      ]
     },
     "metadata": {},
     "output_type": "display_data"
    },
    {
     "data": {
      "application/vnd.jupyter.widget-view+json": {
       "model_id": "",
       "version_major": 2,
       "version_minor": 0
      },
      "text/plain": [
       "Validating: 0it [00:00, ?it/s]"
      ]
     },
     "metadata": {},
     "output_type": "display_data"
    },
    {
     "data": {
      "application/vnd.jupyter.widget-view+json": {
       "model_id": "",
       "version_major": 2,
       "version_minor": 0
      },
      "text/plain": [
       "Validating: 0it [00:00, ?it/s]"
      ]
     },
     "metadata": {},
     "output_type": "display_data"
    },
    {
     "data": {
      "application/vnd.jupyter.widget-view+json": {
       "model_id": "",
       "version_major": 2,
       "version_minor": 0
      },
      "text/plain": [
       "Validating: 0it [00:00, ?it/s]"
      ]
     },
     "metadata": {},
     "output_type": "display_data"
    },
    {
     "data": {
      "application/vnd.jupyter.widget-view+json": {
       "model_id": "",
       "version_major": 2,
       "version_minor": 0
      },
      "text/plain": [
       "Validating: 0it [00:00, ?it/s]"
      ]
     },
     "metadata": {},
     "output_type": "display_data"
    },
    {
     "data": {
      "application/vnd.jupyter.widget-view+json": {
       "model_id": "",
       "version_major": 2,
       "version_minor": 0
      },
      "text/plain": [
       "Validating: 0it [00:00, ?it/s]"
      ]
     },
     "metadata": {},
     "output_type": "display_data"
    },
    {
     "data": {
      "application/vnd.jupyter.widget-view+json": {
       "model_id": "",
       "version_major": 2,
       "version_minor": 0
      },
      "text/plain": [
       "Validating: 0it [00:00, ?it/s]"
      ]
     },
     "metadata": {},
     "output_type": "display_data"
    },
    {
     "data": {
      "application/vnd.jupyter.widget-view+json": {
       "model_id": "",
       "version_major": 2,
       "version_minor": 0
      },
      "text/plain": [
       "Validating: 0it [00:00, ?it/s]"
      ]
     },
     "metadata": {},
     "output_type": "display_data"
    },
    {
     "data": {
      "application/vnd.jupyter.widget-view+json": {
       "model_id": "",
       "version_major": 2,
       "version_minor": 0
      },
      "text/plain": [
       "Validating: 0it [00:00, ?it/s]"
      ]
     },
     "metadata": {},
     "output_type": "display_data"
    },
    {
     "data": {
      "application/vnd.jupyter.widget-view+json": {
       "model_id": "",
       "version_major": 2,
       "version_minor": 0
      },
      "text/plain": [
       "Validating: 0it [00:00, ?it/s]"
      ]
     },
     "metadata": {},
     "output_type": "display_data"
    },
    {
     "data": {
      "application/vnd.jupyter.widget-view+json": {
       "model_id": "",
       "version_major": 2,
       "version_minor": 0
      },
      "text/plain": [
       "Validating: 0it [00:00, ?it/s]"
      ]
     },
     "metadata": {},
     "output_type": "display_data"
    },
    {
     "data": {
      "application/vnd.jupyter.widget-view+json": {
       "model_id": "",
       "version_major": 2,
       "version_minor": 0
      },
      "text/plain": [
       "Validating: 0it [00:00, ?it/s]"
      ]
     },
     "metadata": {},
     "output_type": "display_data"
    },
    {
     "data": {
      "application/vnd.jupyter.widget-view+json": {
       "model_id": "",
       "version_major": 2,
       "version_minor": 0
      },
      "text/plain": [
       "Validating: 0it [00:00, ?it/s]"
      ]
     },
     "metadata": {},
     "output_type": "display_data"
    },
    {
     "data": {
      "application/vnd.jupyter.widget-view+json": {
       "model_id": "",
       "version_major": 2,
       "version_minor": 0
      },
      "text/plain": [
       "Validating: 0it [00:00, ?it/s]"
      ]
     },
     "metadata": {},
     "output_type": "display_data"
    },
    {
     "data": {
      "application/vnd.jupyter.widget-view+json": {
       "model_id": "",
       "version_major": 2,
       "version_minor": 0
      },
      "text/plain": [
       "Validating: 0it [00:00, ?it/s]"
      ]
     },
     "metadata": {},
     "output_type": "display_data"
    },
    {
     "data": {
      "application/vnd.jupyter.widget-view+json": {
       "model_id": "",
       "version_major": 2,
       "version_minor": 0
      },
      "text/plain": [
       "Validating: 0it [00:00, ?it/s]"
      ]
     },
     "metadata": {},
     "output_type": "display_data"
    },
    {
     "data": {
      "application/vnd.jupyter.widget-view+json": {
       "model_id": "",
       "version_major": 2,
       "version_minor": 0
      },
      "text/plain": [
       "Validating: 0it [00:00, ?it/s]"
      ]
     },
     "metadata": {},
     "output_type": "display_data"
    },
    {
     "data": {
      "application/vnd.jupyter.widget-view+json": {
       "model_id": "",
       "version_major": 2,
       "version_minor": 0
      },
      "text/plain": [
       "Validating: 0it [00:00, ?it/s]"
      ]
     },
     "metadata": {},
     "output_type": "display_data"
    },
    {
     "data": {
      "application/vnd.jupyter.widget-view+json": {
       "model_id": "",
       "version_major": 2,
       "version_minor": 0
      },
      "text/plain": [
       "Validating: 0it [00:00, ?it/s]"
      ]
     },
     "metadata": {},
     "output_type": "display_data"
    }
   ],
   "source": [
    "#create dataloaders\n",
    "train_loader = DataLoader(train, batch_size = 4, num_workers = 16, collate_fn = custom_collate)\n",
    "val_loader = DataLoader(val, batch_size = 4, num_workers = 16, collate_fn = custom_collate)\n",
    "\n",
    "#model hyperparameters\n",
    "dims = [7, 16, 32, 64, 64]\n",
    "dropout = 0.2\n",
    "heads = 4\n",
    "window = 7\n",
    "\n",
    "# model\n",
    "model = Transformer_model(dims, dropout, heads, window)\n",
    "\n",
    "# training\n",
    "trainer = pl.Trainer(accelerator = \"gpu\", devices = \"1\", max_epochs = 100)\n",
    "trainer.fit(model, train_loader, val_loader)"
   ]
  },
  {
   "cell_type": "markdown",
   "id": "106584b7-de42-4bc5-9e14-e27da37add2d",
   "metadata": {},
   "source": [
    "## Store model"
   ]
  },
  {
   "cell_type": "code",
   "execution_count": 9,
   "id": "07f097f5-3321-43c5-98e8-083ced2f3659",
   "metadata": {},
   "outputs": [],
   "source": [
    "path = '/home/yarivl/thesis/final_models/Transformer_E_coli_2'\n",
    "torch.save(model, path)"
   ]
  },
  {
   "cell_type": "code",
   "execution_count": 10,
   "id": "d0a49dd2-b43a-4729-8542-dd15bcbc2896",
   "metadata": {},
   "outputs": [],
   "source": [
    "trainer.save_checkpoint('/home/yarivl/thesis/final_models/Transformer_E_coli_2.ckpt')"
   ]
  },
  {
   "cell_type": "markdown",
   "id": "542ec5b8-3f0e-4ac5-8de0-bee1d9ba2d9b",
   "metadata": {},
   "source": [
    "## Resume training if needed"
   ]
  },
  {
   "cell_type": "code",
   "execution_count": null,
   "id": "943354b1-6833-4fec-bd37-1a3a819a8f43",
   "metadata": {},
   "outputs": [
    {
     "name": "stderr",
     "output_type": "stream",
     "text": [
      "/home/yarivl/anaconda3/envs/thesis/lib/python3.9/site-packages/pytorch_lightning/utilities/device_parser.py:135: LightningDeprecationWarning: Parsing of the Trainer argument gpus='1' (string) will change in the future. In the current version of Lightning, this will select CUDA device with index 1, but from v1.5 it will select gpus [0] (same as gpus=1 (int)).\n",
      "  rank_zero_deprecation(\n",
      "GPU available: True, used: True\n",
      "TPU available: False, using: 0 TPU cores\n",
      "IPU available: False, using: 0 IPUs\n",
      "Restoring states from the checkpoint file at /home/yarivl/thesis/final_models/Transformer_E_coli_1.ckpt\n",
      "LOCAL_RANK: 0 - CUDA_VISIBLE_DEVICES: [0,1]\n",
      "Restored all states from the checkpoint file at /home/yarivl/thesis/final_models/Transformer_E_coli_1.ckpt\n",
      "\n",
      "  | Name               | Type                   | Params\n",
      "--------------------------------------------------------------\n",
      "0 | tp                 | TransformerPreparation | 0     \n",
      "1 | connection_layers  | ModuleList             | 278 K \n",
      "2 | transformer_layers | ModuleList             | 4.5 M \n",
      "3 | decoder            | Sequential             | 385   \n",
      "--------------------------------------------------------------\n",
      "4.8 M     Trainable params\n",
      "0         Non-trainable params\n",
      "4.8 M     Total params\n",
      "19.307    Total estimated model params size (MB)\n"
     ]
    },
    {
     "data": {
      "application/vnd.jupyter.widget-view+json": {
       "model_id": "",
       "version_major": 2,
       "version_minor": 0
      },
      "text/plain": [
       "Validation sanity check: 0it [00:00, ?it/s]"
      ]
     },
     "metadata": {},
     "output_type": "display_data"
    },
    {
     "data": {
      "application/vnd.jupyter.widget-view+json": {
       "model_id": "0321c721d3a24350b723021bbfccf100",
       "version_major": 2,
       "version_minor": 0
      },
      "text/plain": [
       "Training: -1it [00:00, ?it/s]"
      ]
     },
     "metadata": {},
     "output_type": "display_data"
    },
    {
     "name": "stderr",
     "output_type": "stream",
     "text": [
      "/home/yarivl/anaconda3/envs/thesis/lib/python3.9/site-packages/torchmetrics/utilities/prints.py:36: UserWarning: No positive samples in targets, true positive value should be meaningless. Returning zero tensor in true positive score\n",
      "  warnings.warn(*args, **kwargs)\n",
      "/home/yarivl/anaconda3/envs/thesis/lib/python3.9/site-packages/torchmetrics/utilities/prints.py:36: UserWarning: No negative samples in targets, false positive value should be meaningless. Returning zero tensor in false positive score\n",
      "  warnings.warn(*args, **kwargs)\n"
     ]
    }
   ],
   "source": [
    "#create dataloaders\n",
    "train_loader = DataLoader(train, batch_size = 4, num_workers = 16, collate_fn = custom_collate)\n",
    "val_loader = DataLoader(val, batch_size = 4, num_workers = 16, collate_fn = custom_collate)\n",
    "\n",
    "dims = [7, 96, 192, 192, 384, 384]\n",
    "dropout = 0.2\n",
    "heads = 4\n",
    "window = 7\n",
    "\n",
    "# model\n",
    "model = Transformer_model(dims, dropout, heads, window)\n",
    "trainer = pl.Trainer(accelerator = \"gpu\", devices = \"1\", max_epochs = 100, resume_from_checkpoint = '/home/yarivl/thesis/final_models/Transformer_E_coli_1.ckpt')\n",
    "\n",
    "# automatically restores model, epoch, step, LR schedulers, apex, etc...\n",
    "trainer.fit(model, train_loader, val_loader)"
   ]
  },
  {
   "cell_type": "markdown",
   "id": "1315807d-c519-491f-b8fe-4a205d187cac",
   "metadata": {},
   "source": [
    "## Evaluate model"
   ]
  },
  {
   "cell_type": "markdown",
   "id": "79db4275-7cf0-4ef0-ad56-15d9316de59e",
   "metadata": {
    "tags": []
   },
   "source": [
    "### Calculate precision, recall, false positive rate, true positive rate"
   ]
  },
  {
   "cell_type": "code",
   "execution_count": 12,
   "id": "0536a88b-920a-4ed2-9f91-7d1a29b51435",
   "metadata": {},
   "outputs": [],
   "source": [
    "del model\n",
    "torch.cuda.empty_cache()"
   ]
  },
  {
   "cell_type": "code",
   "execution_count": 15,
   "id": "d3b1d536-93c1-4d27-a148-16da623a4acc",
   "metadata": {},
   "outputs": [
    {
     "name": "stdout",
     "output_type": "stream",
     "text": [
      "AUC_ROC: 0.7527623462383244\n",
      "AUC_PR: 0.7225570965933833\n"
     ]
    }
   ],
   "source": [
    "model.eval() #17:33 3 min\n",
    "y_true = []\n",
    "y_hat = []\n",
    "\n",
    "for i in range(len(test)):\n",
    "    #get predictions\n",
    "    x = test[i][0]\n",
    "    x = torch.transpose(x, dim0 = 0, dim1 = 1)\n",
    "    x = torch.unsqueeze(x, 0)\n",
    "    y_pred = model(x)\n",
    "    y_pred = y_pred.detach().numpy()[0]\n",
    "    \n",
    "    #get labels\n",
    "    y_lab = np.array(test[i][1])\n",
    "\n",
    "    #get mask\n",
    "    mask = y_lab != 2\n",
    "    \n",
    "    y_true.append(y_lab[mask])\n",
    "    y_hat.append(y_pred[mask])\n",
    "    \n",
    "y_true = np.concatenate(y_true)\n",
    "y_hat = np.concatenate(y_hat)\n",
    "\n",
    "#calculate precision, recall, false positive rate, true positive rate\n",
    "fpr, tpr, thresholds_ROC = roc_curve(y_true, y_hat)\n",
    "precision, recall, thresholds_PR = precision_recall_curve(y_true, y_hat)\n",
    "\n",
    "#calculate area under the curve\n",
    "AUC_ROC = metrics.auc(fpr, tpr)\n",
    "AUC_PR = average_precision_score(y_true, y_hat)\n",
    "print(\"AUC_ROC: \" + str(AUC_ROC))\n",
    "print(\"AUC_PR: \" + str(AUC_PR))\n",
    "\n",
    "y_hat_test = np.copy(y_hat)\n",
    "y_true_test = np.copy(y_true)"
   ]
  },
  {
   "cell_type": "markdown",
   "id": "da057f91-f779-4b27-b669-807dc32bfce1",
   "metadata": {},
   "source": [
    "### Plot ROC curve"
   ]
  },
  {
   "cell_type": "code",
   "execution_count": null,
   "id": "42de4d34-7e65-49d2-94bd-c35319a636c3",
   "metadata": {},
   "outputs": [],
   "source": [
    "fig, ax = plt.subplots()\n",
    "ax.set_xlabel('False positive rate')\n",
    "ax.set_ylabel('True positive rate')\n",
    "ax.set_title('Receiver Operating Characteristics curve')\n",
    "ax.axvline(x = 0, color='black', linestyle='--', linewidth = 1)\n",
    "ax.axhline(y = 1, color='black', linestyle='--', linewidth = 1)\n",
    "ax.plot(fpr, tpr)\n",
    "\n",
    "plt.show()"
   ]
  },
  {
   "cell_type": "markdown",
   "id": "a69bcacb-b5db-43dc-abb9-d93a83b4c3ea",
   "metadata": {},
   "source": [
    "### Plot PR curve"
   ]
  },
  {
   "cell_type": "code",
   "execution_count": null,
   "id": "87701ecc-eb9b-4371-b140-a51851a010ac",
   "metadata": {},
   "outputs": [],
   "source": [
    "import matplotlib.pyplot as plt\n",
    "fig, ax = plt.subplots()\n",
    "ax.set_xlabel('Recall')\n",
    "ax.set_ylabel('Precision')\n",
    "ax.set_title('Precision-Recall curve')\n",
    "ax.axvline(x = 1, color='black', linestyle='--', linewidth = 1)\n",
    "ax.axhline(y = 1, color='black', linestyle='--', linewidth = 1)\n",
    "ax.plot(recall, precision)\n",
    "#ax.plot(recall[:1935769], thresholds_PR, color = 'orange')\n",
    "\n",
    "plt.show()"
   ]
  },
  {
   "cell_type": "code",
   "execution_count": 17,
   "id": "0068f47f-637c-49a7-bdb4-5c23c5084c95",
   "metadata": {},
   "outputs": [],
   "source": [
    "from sklearn.metrics import accuracy_score\n",
    "from sklearn.metrics import precision_score\n",
    "from sklearn.metrics import recall_score"
   ]
  },
  {
   "cell_type": "code",
   "execution_count": 18,
   "id": "8e9b69dd-912f-43cb-aed6-9d3f0d038a6a",
   "metadata": {},
   "outputs": [],
   "source": [
    "acc = accuracy_score(y_true, np.round(y_hat))\n",
    "prec = precision_score(y_true, np.round(y_hat))\n",
    "rec = recall_score(y_true, np.round(y_hat))"
   ]
  },
  {
   "cell_type": "code",
   "execution_count": 19,
   "id": "460e2ffe-981f-48e9-b234-0dec1ec5fdb8",
   "metadata": {},
   "outputs": [
    {
     "name": "stdout",
     "output_type": "stream",
     "text": [
      "accuracy: 0.6893889572846702\n",
      "precision: 0.6823890763256731\n",
      "recall: 0.6829499047534101\n"
     ]
    }
   ],
   "source": [
    "print(\"accuracy: \" + str(acc))\n",
    "print(\"precision: \" + str(prec))\n",
    "print(\"recall: \" + str(rec))"
   ]
  },
  {
   "cell_type": "code",
   "execution_count": 20,
   "id": "685864f0-19b8-4bad-82fd-0648c394efe2",
   "metadata": {},
   "outputs": [
    {
     "data": {
      "text/plain": [
       "[('layers.0.weight', 672),\n",
       " ('layers.0.bias', 96),\n",
       " ('layers.1.conv.weight', 1248),\n",
       " ('layers.1.conv.bias', 96),\n",
       " ('layers.1.norm.weight', 96),\n",
       " ('layers.1.norm.bias', 96),\n",
       " ('layers.1.pointwise_net.0.weight', 36864),\n",
       " ('layers.1.pointwise_net.0.bias', 384),\n",
       " ('layers.1.pointwise_net.3.weight', 36864),\n",
       " ('layers.1.pointwise_net.3.bias', 96),\n",
       " ('layers.2.weight', 10752),\n",
       " ('layers.2.bias', 112),\n",
       " ('layers.3.conv.weight', 1456),\n",
       " ('layers.3.conv.bias', 112),\n",
       " ('layers.3.norm.weight', 112),\n",
       " ('layers.3.norm.bias', 112),\n",
       " ('layers.3.pointwise_net.0.weight', 50176),\n",
       " ('layers.3.pointwise_net.0.bias', 448),\n",
       " ('layers.3.pointwise_net.3.weight', 50176),\n",
       " ('layers.3.pointwise_net.3.bias', 112),\n",
       " ('decoder.0.weight', 112),\n",
       " ('decoder.0.bias', 1),\n",
       " ('total', 190193)]"
      ]
     },
     "execution_count": 20,
     "metadata": {},
     "output_type": "execute_result"
    }
   ],
   "source": [
    "test_model.n_params()"
   ]
  },
  {
   "cell_type": "markdown",
   "id": "01e09687-8678-441a-aab8-98f334ff9e22",
   "metadata": {},
   "source": [
    "## Get predictions on validation set"
   ]
  },
  {
   "cell_type": "code",
   "execution_count": null,
   "id": "522dac8c-0dfb-4576-987e-17c5a4315ac7",
   "metadata": {},
   "outputs": [],
   "source": [
    "model.eval() #17:33 3 min\n",
    "y_true = []\n",
    "y_hat = []\n",
    "\n",
    "for i in range(len(val)):\n",
    "    #get predictions\n",
    "    x = val[i][0]\n",
    "    x = torch.transpose(x, dim0 = 0, dim1 = 1)\n",
    "    x = torch.unsqueeze(x, 0)\n",
    "    y_pred = model(x)\n",
    "    y_pred = y_pred.detach().numpy()[0]\n",
    "    \n",
    "    #get labels\n",
    "    y_lab = np.array(val[i][1])\n",
    "\n",
    "    #get mask\n",
    "    mask = y_lab != 2\n",
    "    \n",
    "    y_true.append(y_lab[mask])\n",
    "    y_hat.append(y_pred[mask])\n",
    "    \n",
    "y_true = np.concatenate(y_true)\n",
    "y_hat = np.concatenate(y_hat)\n",
    "\n",
    "#calculate precision, recall, false positive rate, true positive rate\n",
    "fpr, tpr, thresholds_ROC = roc_curve(y_true, y_hat)\n",
    "precision, recall, thresholds_PR = precision_recall_curve(y_true, y_hat)\n",
    "\n",
    "#calculate area under the curve\n",
    "AUC_ROC = metrics.auc(fpr, tpr)\n",
    "AUC_PR = average_precision_score(y_true, y_hat)\n",
    "print(\"AUC_ROC: \" + str(AUC_ROC))\n",
    "print(\"AUC_PR: \" + str(AUC_PR))\n",
    "\n",
    "y_hat_val = np.copy(y_hat)\n",
    "y_true_val = np.copy(y_true)"
   ]
  },
  {
   "cell_type": "markdown",
   "id": "beb25232-95ab-4e33-a822-8ffc0743fb1d",
   "metadata": {},
   "source": [
    "## Store test and validation set predictions"
   ]
  },
  {
   "cell_type": "code",
   "execution_count": null,
   "id": "0301d707-2522-47ea-a9be-7c38a4305978",
   "metadata": {},
   "outputs": [],
   "source": [
    "np.save('/home/yarivl/thesis/results/Transformer/E_coli/y_hat_test.npy', y_hat_test)\n",
    "np.save('/home/yarivl/thesis/results/Transformer/E_coli/y_true_test.npy', y_true_test)\n",
    "np.save('/home/yarivl/thesis/results/Transformer/E_coli/y_hat_val.npy', y_hat_val)\n",
    "np.save('/home/yarivl/thesis/results/Transformer/E_coli/y_true_val.npy', y_true_val)"
   ]
  }
 ],
 "metadata": {
  "kernelspec": {
   "display_name": "Python 3",
   "language": "python",
   "name": "python3"
  },
  "language_info": {
   "codemirror_mode": {
    "name": "ipython",
    "version": 3
   },
   "file_extension": ".py",
   "mimetype": "text/x-python",
   "name": "python",
   "nbconvert_exporter": "python",
   "pygments_lexer": "ipython3",
   "version": "3.8.10"
  }
 },
 "nbformat": 4,
 "nbformat_minor": 5
}
